{
 "cells": [
  {
   "cell_type": "code",
   "execution_count": 132,
   "metadata": {
    "colab": {
     "base_uri": "https://localhost:8080/"
    },
    "id": "7WZqDHlph_PX",
    "outputId": "8ee50a24-c393-420f-f24d-6be55cfbd4c4",
    "scrolled": true
   },
   "outputs": [],
   "source": [
    "# UCI REPOSITORY (DRUG CONSUMPTION(QUANTIFIED)\n",
    "# 12 FEATURES. 1.89K INSTANCES\n",
    "#!pip install ucimlrepo"
   ]
  },
  {
   "cell_type": "code",
   "execution_count": 1,
   "metadata": {
    "id": "IojCxdpqiYYz"
   },
   "outputs": [],
   "source": [
    "import pandas as pd\n",
    "import numpy as np\n",
    "import matplotlib.pyplot as plt\n",
    "import seaborn as sns\n",
    "import sklearn\n",
    "from sklearn.model_selection import train_test_split\n",
    "from sklearn.preprocessing import LabelEncoder\n",
    "from sklearn.ensemble import RandomForestClassifier\n",
    "from sklearn.linear_model import LogisticRegression\n",
    "from sklearn.metrics import classification_report, accuracy_score, confusion_matrix\n",
    "from sklearn.svm import SVC\n",
    "from sklearn.preprocessing import StandardScaler"
   ]
  },
  {
   "cell_type": "code",
   "execution_count": 2,
   "metadata": {
    "colab": {
     "base_uri": "https://localhost:8080/"
    },
    "id": "Q2lNhO8EjWGa",
    "outputId": "5783e065-88e6-4f4e-e04a-eef921c6d1f9"
   },
   "outputs": [
    {
     "name": "stdout",
     "output_type": "stream",
     "text": [
      "       age   gender  education  country  ethnicity   nscore   escore   oscore  \\\n",
      "0  0.49788  0.48246   -0.05921  0.96082    0.12600  0.31287 -0.57545 -0.58331   \n",
      "1 -0.07854 -0.48246    1.98437  0.96082   -0.31685 -0.67825  1.93886  1.43533   \n",
      "2  0.49788 -0.48246   -0.05921  0.96082   -0.31685 -0.46725  0.80523 -0.84732   \n",
      "3 -0.95197  0.48246    1.16365  0.96082   -0.31685 -0.14882 -0.80615 -0.01928   \n",
      "4  0.49788  0.48246    1.98437  0.96082   -0.31685  0.73545 -1.63340 -0.45174   \n",
      "\n",
      "    ascore   cscore  ...  ecstasy  heroin ketamine legalh  lsd meth mushrooms  \\\n",
      "0 -0.91699 -0.00665  ...      CL0     CL0      CL0    CL0  CL0  CL0       CL0   \n",
      "1  0.76096 -0.14277  ...      CL4     CL0      CL2    CL0  CL2  CL3       CL0   \n",
      "2 -1.62090 -1.01450  ...      CL0     CL0      CL0    CL0  CL0  CL0       CL1   \n",
      "3  0.59042  0.58489  ...      CL0     CL0      CL2    CL0  CL0  CL0       CL0   \n",
      "4 -0.30172  1.30612  ...      CL1     CL0      CL0    CL1  CL0  CL0       CL2   \n",
      "\n",
      "  nicotine semer  vsa  \n",
      "0      CL2   CL0  CL0  \n",
      "1      CL4   CL0  CL0  \n",
      "2      CL0   CL0  CL0  \n",
      "3      CL2   CL0  CL0  \n",
      "4      CL2   CL0  CL0  \n",
      "\n",
      "[5 rows x 31 columns]\n"
     ]
    }
   ],
   "source": [
    "from ucimlrepo import fetch_ucirepo\n",
    "\n",
    "drug_consumption_quantified = fetch_ucirepo(id=373)\n",
    "\n",
    "X = drug_consumption_quantified.data.features\n",
    "y = drug_consumption_quantified.data.targets\n",
    "\n",
    "# DataFrame\n",
    "drug_data = pd.concat([X, y], axis=1)\n",
    "\n",
    "\n",
    "print(drug_data.head())\n"
   ]
  },
  {
   "cell_type": "code",
   "execution_count": 3,
   "metadata": {
    "colab": {
     "base_uri": "https://localhost:8080/"
    },
    "id": "XMj-w5IljkWc",
    "outputId": "dca5aad4-060e-4367-87b9-9ad3685f9933"
   },
   "outputs": [
    {
     "data": {
      "text/html": [
       "<div>\n",
       "<style scoped>\n",
       "    .dataframe tbody tr th:only-of-type {\n",
       "        vertical-align: middle;\n",
       "    }\n",
       "\n",
       "    .dataframe tbody tr th {\n",
       "        vertical-align: top;\n",
       "    }\n",
       "\n",
       "    .dataframe thead th {\n",
       "        text-align: right;\n",
       "    }\n",
       "</style>\n",
       "<table border=\"1\" class=\"dataframe\">\n",
       "  <thead>\n",
       "    <tr style=\"text-align: right;\">\n",
       "      <th></th>\n",
       "      <th>age</th>\n",
       "      <th>gender</th>\n",
       "      <th>education</th>\n",
       "      <th>country</th>\n",
       "      <th>ethnicity</th>\n",
       "      <th>nscore</th>\n",
       "      <th>escore</th>\n",
       "      <th>oscore</th>\n",
       "      <th>ascore</th>\n",
       "      <th>cscore</th>\n",
       "      <th>impuslive</th>\n",
       "      <th>ss</th>\n",
       "    </tr>\n",
       "  </thead>\n",
       "  <tbody>\n",
       "    <tr>\n",
       "      <th>0</th>\n",
       "      <td>0.49788</td>\n",
       "      <td>0.48246</td>\n",
       "      <td>-0.05921</td>\n",
       "      <td>0.96082</td>\n",
       "      <td>0.12600</td>\n",
       "      <td>0.31287</td>\n",
       "      <td>-0.57545</td>\n",
       "      <td>-0.58331</td>\n",
       "      <td>-0.91699</td>\n",
       "      <td>-0.00665</td>\n",
       "      <td>-0.21712</td>\n",
       "      <td>-1.18084</td>\n",
       "    </tr>\n",
       "    <tr>\n",
       "      <th>1</th>\n",
       "      <td>-0.07854</td>\n",
       "      <td>-0.48246</td>\n",
       "      <td>1.98437</td>\n",
       "      <td>0.96082</td>\n",
       "      <td>-0.31685</td>\n",
       "      <td>-0.67825</td>\n",
       "      <td>1.93886</td>\n",
       "      <td>1.43533</td>\n",
       "      <td>0.76096</td>\n",
       "      <td>-0.14277</td>\n",
       "      <td>-0.71126</td>\n",
       "      <td>-0.21575</td>\n",
       "    </tr>\n",
       "    <tr>\n",
       "      <th>2</th>\n",
       "      <td>0.49788</td>\n",
       "      <td>-0.48246</td>\n",
       "      <td>-0.05921</td>\n",
       "      <td>0.96082</td>\n",
       "      <td>-0.31685</td>\n",
       "      <td>-0.46725</td>\n",
       "      <td>0.80523</td>\n",
       "      <td>-0.84732</td>\n",
       "      <td>-1.62090</td>\n",
       "      <td>-1.01450</td>\n",
       "      <td>-1.37983</td>\n",
       "      <td>0.40148</td>\n",
       "    </tr>\n",
       "    <tr>\n",
       "      <th>3</th>\n",
       "      <td>-0.95197</td>\n",
       "      <td>0.48246</td>\n",
       "      <td>1.16365</td>\n",
       "      <td>0.96082</td>\n",
       "      <td>-0.31685</td>\n",
       "      <td>-0.14882</td>\n",
       "      <td>-0.80615</td>\n",
       "      <td>-0.01928</td>\n",
       "      <td>0.59042</td>\n",
       "      <td>0.58489</td>\n",
       "      <td>-1.37983</td>\n",
       "      <td>-1.18084</td>\n",
       "    </tr>\n",
       "    <tr>\n",
       "      <th>4</th>\n",
       "      <td>0.49788</td>\n",
       "      <td>0.48246</td>\n",
       "      <td>1.98437</td>\n",
       "      <td>0.96082</td>\n",
       "      <td>-0.31685</td>\n",
       "      <td>0.73545</td>\n",
       "      <td>-1.63340</td>\n",
       "      <td>-0.45174</td>\n",
       "      <td>-0.30172</td>\n",
       "      <td>1.30612</td>\n",
       "      <td>-0.21712</td>\n",
       "      <td>-0.21575</td>\n",
       "    </tr>\n",
       "    <tr>\n",
       "      <th>...</th>\n",
       "      <td>...</td>\n",
       "      <td>...</td>\n",
       "      <td>...</td>\n",
       "      <td>...</td>\n",
       "      <td>...</td>\n",
       "      <td>...</td>\n",
       "      <td>...</td>\n",
       "      <td>...</td>\n",
       "      <td>...</td>\n",
       "      <td>...</td>\n",
       "      <td>...</td>\n",
       "      <td>...</td>\n",
       "    </tr>\n",
       "    <tr>\n",
       "      <th>1880</th>\n",
       "      <td>-0.95197</td>\n",
       "      <td>0.48246</td>\n",
       "      <td>-0.61113</td>\n",
       "      <td>-0.57009</td>\n",
       "      <td>-0.31685</td>\n",
       "      <td>-1.19430</td>\n",
       "      <td>1.74091</td>\n",
       "      <td>1.88511</td>\n",
       "      <td>0.76096</td>\n",
       "      <td>-1.13788</td>\n",
       "      <td>0.88113</td>\n",
       "      <td>1.92173</td>\n",
       "    </tr>\n",
       "    <tr>\n",
       "      <th>1881</th>\n",
       "      <td>-0.95197</td>\n",
       "      <td>-0.48246</td>\n",
       "      <td>-0.61113</td>\n",
       "      <td>-0.57009</td>\n",
       "      <td>-0.31685</td>\n",
       "      <td>-0.24649</td>\n",
       "      <td>1.74091</td>\n",
       "      <td>0.58331</td>\n",
       "      <td>0.76096</td>\n",
       "      <td>-1.51840</td>\n",
       "      <td>0.88113</td>\n",
       "      <td>0.76540</td>\n",
       "    </tr>\n",
       "    <tr>\n",
       "      <th>1882</th>\n",
       "      <td>-0.07854</td>\n",
       "      <td>0.48246</td>\n",
       "      <td>0.45468</td>\n",
       "      <td>-0.57009</td>\n",
       "      <td>-0.31685</td>\n",
       "      <td>1.13281</td>\n",
       "      <td>-1.37639</td>\n",
       "      <td>-1.27553</td>\n",
       "      <td>-1.77200</td>\n",
       "      <td>-1.38502</td>\n",
       "      <td>0.52975</td>\n",
       "      <td>-0.52593</td>\n",
       "    </tr>\n",
       "    <tr>\n",
       "      <th>1883</th>\n",
       "      <td>-0.95197</td>\n",
       "      <td>0.48246</td>\n",
       "      <td>-0.61113</td>\n",
       "      <td>-0.57009</td>\n",
       "      <td>-0.31685</td>\n",
       "      <td>0.91093</td>\n",
       "      <td>-1.92173</td>\n",
       "      <td>0.29338</td>\n",
       "      <td>-1.62090</td>\n",
       "      <td>-2.57309</td>\n",
       "      <td>1.29221</td>\n",
       "      <td>1.22470</td>\n",
       "    </tr>\n",
       "    <tr>\n",
       "      <th>1884</th>\n",
       "      <td>-0.95197</td>\n",
       "      <td>-0.48246</td>\n",
       "      <td>-0.61113</td>\n",
       "      <td>0.21128</td>\n",
       "      <td>-0.31685</td>\n",
       "      <td>-0.46725</td>\n",
       "      <td>2.12700</td>\n",
       "      <td>1.65653</td>\n",
       "      <td>1.11406</td>\n",
       "      <td>0.41594</td>\n",
       "      <td>0.88113</td>\n",
       "      <td>1.22470</td>\n",
       "    </tr>\n",
       "  </tbody>\n",
       "</table>\n",
       "<p>1885 rows × 12 columns</p>\n",
       "</div>"
      ],
      "text/plain": [
       "          age   gender  education  country  ethnicity   nscore   escore  \\\n",
       "0     0.49788  0.48246   -0.05921  0.96082    0.12600  0.31287 -0.57545   \n",
       "1    -0.07854 -0.48246    1.98437  0.96082   -0.31685 -0.67825  1.93886   \n",
       "2     0.49788 -0.48246   -0.05921  0.96082   -0.31685 -0.46725  0.80523   \n",
       "3    -0.95197  0.48246    1.16365  0.96082   -0.31685 -0.14882 -0.80615   \n",
       "4     0.49788  0.48246    1.98437  0.96082   -0.31685  0.73545 -1.63340   \n",
       "...       ...      ...        ...      ...        ...      ...      ...   \n",
       "1880 -0.95197  0.48246   -0.61113 -0.57009   -0.31685 -1.19430  1.74091   \n",
       "1881 -0.95197 -0.48246   -0.61113 -0.57009   -0.31685 -0.24649  1.74091   \n",
       "1882 -0.07854  0.48246    0.45468 -0.57009   -0.31685  1.13281 -1.37639   \n",
       "1883 -0.95197  0.48246   -0.61113 -0.57009   -0.31685  0.91093 -1.92173   \n",
       "1884 -0.95197 -0.48246   -0.61113  0.21128   -0.31685 -0.46725  2.12700   \n",
       "\n",
       "       oscore   ascore   cscore  impuslive       ss  \n",
       "0    -0.58331 -0.91699 -0.00665   -0.21712 -1.18084  \n",
       "1     1.43533  0.76096 -0.14277   -0.71126 -0.21575  \n",
       "2    -0.84732 -1.62090 -1.01450   -1.37983  0.40148  \n",
       "3    -0.01928  0.59042  0.58489   -1.37983 -1.18084  \n",
       "4    -0.45174 -0.30172  1.30612   -0.21712 -0.21575  \n",
       "...       ...      ...      ...        ...      ...  \n",
       "1880  1.88511  0.76096 -1.13788    0.88113  1.92173  \n",
       "1881  0.58331  0.76096 -1.51840    0.88113  0.76540  \n",
       "1882 -1.27553 -1.77200 -1.38502    0.52975 -0.52593  \n",
       "1883  0.29338 -1.62090 -2.57309    1.29221  1.22470  \n",
       "1884  1.65653  1.11406  0.41594    0.88113  1.22470  \n",
       "\n",
       "[1885 rows x 12 columns]"
      ]
     },
     "execution_count": 3,
     "metadata": {},
     "output_type": "execute_result"
    }
   ],
   "source": [
    "X"
   ]
  },
  {
   "cell_type": "code",
   "execution_count": 4,
   "metadata": {
    "colab": {
     "base_uri": "https://localhost:8080/"
    },
    "id": "Odh1uWLCjzQU",
    "outputId": "13b505b4-3acb-423a-bae0-5e8d16c4c3d5"
   },
   "outputs": [
    {
     "data": {
      "text/html": [
       "<div>\n",
       "<style scoped>\n",
       "    .dataframe tbody tr th:only-of-type {\n",
       "        vertical-align: middle;\n",
       "    }\n",
       "\n",
       "    .dataframe tbody tr th {\n",
       "        vertical-align: top;\n",
       "    }\n",
       "\n",
       "    .dataframe thead th {\n",
       "        text-align: right;\n",
       "    }\n",
       "</style>\n",
       "<table border=\"1\" class=\"dataframe\">\n",
       "  <thead>\n",
       "    <tr style=\"text-align: right;\">\n",
       "      <th></th>\n",
       "      <th>alcohol</th>\n",
       "      <th>amphet</th>\n",
       "      <th>amyl</th>\n",
       "      <th>benzos</th>\n",
       "      <th>caff</th>\n",
       "      <th>cannabis</th>\n",
       "      <th>choc</th>\n",
       "      <th>coke</th>\n",
       "      <th>crack</th>\n",
       "      <th>ecstasy</th>\n",
       "      <th>heroin</th>\n",
       "      <th>ketamine</th>\n",
       "      <th>legalh</th>\n",
       "      <th>lsd</th>\n",
       "      <th>meth</th>\n",
       "      <th>mushrooms</th>\n",
       "      <th>nicotine</th>\n",
       "      <th>semer</th>\n",
       "      <th>vsa</th>\n",
       "    </tr>\n",
       "  </thead>\n",
       "  <tbody>\n",
       "    <tr>\n",
       "      <th>0</th>\n",
       "      <td>CL5</td>\n",
       "      <td>CL2</td>\n",
       "      <td>CL0</td>\n",
       "      <td>CL2</td>\n",
       "      <td>CL6</td>\n",
       "      <td>CL0</td>\n",
       "      <td>CL5</td>\n",
       "      <td>CL0</td>\n",
       "      <td>CL0</td>\n",
       "      <td>CL0</td>\n",
       "      <td>CL0</td>\n",
       "      <td>CL0</td>\n",
       "      <td>CL0</td>\n",
       "      <td>CL0</td>\n",
       "      <td>CL0</td>\n",
       "      <td>CL0</td>\n",
       "      <td>CL2</td>\n",
       "      <td>CL0</td>\n",
       "      <td>CL0</td>\n",
       "    </tr>\n",
       "    <tr>\n",
       "      <th>1</th>\n",
       "      <td>CL5</td>\n",
       "      <td>CL2</td>\n",
       "      <td>CL2</td>\n",
       "      <td>CL0</td>\n",
       "      <td>CL6</td>\n",
       "      <td>CL4</td>\n",
       "      <td>CL6</td>\n",
       "      <td>CL3</td>\n",
       "      <td>CL0</td>\n",
       "      <td>CL4</td>\n",
       "      <td>CL0</td>\n",
       "      <td>CL2</td>\n",
       "      <td>CL0</td>\n",
       "      <td>CL2</td>\n",
       "      <td>CL3</td>\n",
       "      <td>CL0</td>\n",
       "      <td>CL4</td>\n",
       "      <td>CL0</td>\n",
       "      <td>CL0</td>\n",
       "    </tr>\n",
       "    <tr>\n",
       "      <th>2</th>\n",
       "      <td>CL6</td>\n",
       "      <td>CL0</td>\n",
       "      <td>CL0</td>\n",
       "      <td>CL0</td>\n",
       "      <td>CL6</td>\n",
       "      <td>CL3</td>\n",
       "      <td>CL4</td>\n",
       "      <td>CL0</td>\n",
       "      <td>CL0</td>\n",
       "      <td>CL0</td>\n",
       "      <td>CL0</td>\n",
       "      <td>CL0</td>\n",
       "      <td>CL0</td>\n",
       "      <td>CL0</td>\n",
       "      <td>CL0</td>\n",
       "      <td>CL1</td>\n",
       "      <td>CL0</td>\n",
       "      <td>CL0</td>\n",
       "      <td>CL0</td>\n",
       "    </tr>\n",
       "    <tr>\n",
       "      <th>3</th>\n",
       "      <td>CL4</td>\n",
       "      <td>CL0</td>\n",
       "      <td>CL0</td>\n",
       "      <td>CL3</td>\n",
       "      <td>CL5</td>\n",
       "      <td>CL2</td>\n",
       "      <td>CL4</td>\n",
       "      <td>CL2</td>\n",
       "      <td>CL0</td>\n",
       "      <td>CL0</td>\n",
       "      <td>CL0</td>\n",
       "      <td>CL2</td>\n",
       "      <td>CL0</td>\n",
       "      <td>CL0</td>\n",
       "      <td>CL0</td>\n",
       "      <td>CL0</td>\n",
       "      <td>CL2</td>\n",
       "      <td>CL0</td>\n",
       "      <td>CL0</td>\n",
       "    </tr>\n",
       "    <tr>\n",
       "      <th>4</th>\n",
       "      <td>CL4</td>\n",
       "      <td>CL1</td>\n",
       "      <td>CL1</td>\n",
       "      <td>CL0</td>\n",
       "      <td>CL6</td>\n",
       "      <td>CL3</td>\n",
       "      <td>CL6</td>\n",
       "      <td>CL0</td>\n",
       "      <td>CL0</td>\n",
       "      <td>CL1</td>\n",
       "      <td>CL0</td>\n",
       "      <td>CL0</td>\n",
       "      <td>CL1</td>\n",
       "      <td>CL0</td>\n",
       "      <td>CL0</td>\n",
       "      <td>CL2</td>\n",
       "      <td>CL2</td>\n",
       "      <td>CL0</td>\n",
       "      <td>CL0</td>\n",
       "    </tr>\n",
       "    <tr>\n",
       "      <th>...</th>\n",
       "      <td>...</td>\n",
       "      <td>...</td>\n",
       "      <td>...</td>\n",
       "      <td>...</td>\n",
       "      <td>...</td>\n",
       "      <td>...</td>\n",
       "      <td>...</td>\n",
       "      <td>...</td>\n",
       "      <td>...</td>\n",
       "      <td>...</td>\n",
       "      <td>...</td>\n",
       "      <td>...</td>\n",
       "      <td>...</td>\n",
       "      <td>...</td>\n",
       "      <td>...</td>\n",
       "      <td>...</td>\n",
       "      <td>...</td>\n",
       "      <td>...</td>\n",
       "      <td>...</td>\n",
       "    </tr>\n",
       "    <tr>\n",
       "      <th>1880</th>\n",
       "      <td>CL5</td>\n",
       "      <td>CL0</td>\n",
       "      <td>CL0</td>\n",
       "      <td>CL0</td>\n",
       "      <td>CL4</td>\n",
       "      <td>CL5</td>\n",
       "      <td>CL4</td>\n",
       "      <td>CL0</td>\n",
       "      <td>CL0</td>\n",
       "      <td>CL0</td>\n",
       "      <td>CL0</td>\n",
       "      <td>CL0</td>\n",
       "      <td>CL3</td>\n",
       "      <td>CL3</td>\n",
       "      <td>CL0</td>\n",
       "      <td>CL0</td>\n",
       "      <td>CL0</td>\n",
       "      <td>CL0</td>\n",
       "      <td>CL5</td>\n",
       "    </tr>\n",
       "    <tr>\n",
       "      <th>1881</th>\n",
       "      <td>CL5</td>\n",
       "      <td>CL0</td>\n",
       "      <td>CL0</td>\n",
       "      <td>CL0</td>\n",
       "      <td>CL5</td>\n",
       "      <td>CL3</td>\n",
       "      <td>CL4</td>\n",
       "      <td>CL0</td>\n",
       "      <td>CL0</td>\n",
       "      <td>CL2</td>\n",
       "      <td>CL0</td>\n",
       "      <td>CL0</td>\n",
       "      <td>CL3</td>\n",
       "      <td>CL5</td>\n",
       "      <td>CL4</td>\n",
       "      <td>CL4</td>\n",
       "      <td>CL5</td>\n",
       "      <td>CL0</td>\n",
       "      <td>CL0</td>\n",
       "    </tr>\n",
       "    <tr>\n",
       "      <th>1882</th>\n",
       "      <td>CL4</td>\n",
       "      <td>CL6</td>\n",
       "      <td>CL5</td>\n",
       "      <td>CL5</td>\n",
       "      <td>CL6</td>\n",
       "      <td>CL6</td>\n",
       "      <td>CL6</td>\n",
       "      <td>CL4</td>\n",
       "      <td>CL0</td>\n",
       "      <td>CL4</td>\n",
       "      <td>CL0</td>\n",
       "      <td>CL2</td>\n",
       "      <td>CL0</td>\n",
       "      <td>CL2</td>\n",
       "      <td>CL0</td>\n",
       "      <td>CL2</td>\n",
       "      <td>CL6</td>\n",
       "      <td>CL0</td>\n",
       "      <td>CL0</td>\n",
       "    </tr>\n",
       "    <tr>\n",
       "      <th>1883</th>\n",
       "      <td>CL5</td>\n",
       "      <td>CL0</td>\n",
       "      <td>CL0</td>\n",
       "      <td>CL0</td>\n",
       "      <td>CL6</td>\n",
       "      <td>CL6</td>\n",
       "      <td>CL5</td>\n",
       "      <td>CL0</td>\n",
       "      <td>CL0</td>\n",
       "      <td>CL3</td>\n",
       "      <td>CL0</td>\n",
       "      <td>CL0</td>\n",
       "      <td>CL3</td>\n",
       "      <td>CL3</td>\n",
       "      <td>CL0</td>\n",
       "      <td>CL3</td>\n",
       "      <td>CL4</td>\n",
       "      <td>CL0</td>\n",
       "      <td>CL0</td>\n",
       "    </tr>\n",
       "    <tr>\n",
       "      <th>1884</th>\n",
       "      <td>CL4</td>\n",
       "      <td>CL3</td>\n",
       "      <td>CL0</td>\n",
       "      <td>CL3</td>\n",
       "      <td>CL6</td>\n",
       "      <td>CL3</td>\n",
       "      <td>CL6</td>\n",
       "      <td>CL3</td>\n",
       "      <td>CL0</td>\n",
       "      <td>CL3</td>\n",
       "      <td>CL0</td>\n",
       "      <td>CL0</td>\n",
       "      <td>CL3</td>\n",
       "      <td>CL3</td>\n",
       "      <td>CL0</td>\n",
       "      <td>CL3</td>\n",
       "      <td>CL6</td>\n",
       "      <td>CL0</td>\n",
       "      <td>CL2</td>\n",
       "    </tr>\n",
       "  </tbody>\n",
       "</table>\n",
       "<p>1885 rows × 19 columns</p>\n",
       "</div>"
      ],
      "text/plain": [
       "     alcohol amphet amyl benzos caff cannabis choc coke crack ecstasy heroin  \\\n",
       "0        CL5    CL2  CL0    CL2  CL6      CL0  CL5  CL0   CL0     CL0    CL0   \n",
       "1        CL5    CL2  CL2    CL0  CL6      CL4  CL6  CL3   CL0     CL4    CL0   \n",
       "2        CL6    CL0  CL0    CL0  CL6      CL3  CL4  CL0   CL0     CL0    CL0   \n",
       "3        CL4    CL0  CL0    CL3  CL5      CL2  CL4  CL2   CL0     CL0    CL0   \n",
       "4        CL4    CL1  CL1    CL0  CL6      CL3  CL6  CL0   CL0     CL1    CL0   \n",
       "...      ...    ...  ...    ...  ...      ...  ...  ...   ...     ...    ...   \n",
       "1880     CL5    CL0  CL0    CL0  CL4      CL5  CL4  CL0   CL0     CL0    CL0   \n",
       "1881     CL5    CL0  CL0    CL0  CL5      CL3  CL4  CL0   CL0     CL2    CL0   \n",
       "1882     CL4    CL6  CL5    CL5  CL6      CL6  CL6  CL4   CL0     CL4    CL0   \n",
       "1883     CL5    CL0  CL0    CL0  CL6      CL6  CL5  CL0   CL0     CL3    CL0   \n",
       "1884     CL4    CL3  CL0    CL3  CL6      CL3  CL6  CL3   CL0     CL3    CL0   \n",
       "\n",
       "     ketamine legalh  lsd meth mushrooms nicotine semer  vsa  \n",
       "0         CL0    CL0  CL0  CL0       CL0      CL2   CL0  CL0  \n",
       "1         CL2    CL0  CL2  CL3       CL0      CL4   CL0  CL0  \n",
       "2         CL0    CL0  CL0  CL0       CL1      CL0   CL0  CL0  \n",
       "3         CL2    CL0  CL0  CL0       CL0      CL2   CL0  CL0  \n",
       "4         CL0    CL1  CL0  CL0       CL2      CL2   CL0  CL0  \n",
       "...       ...    ...  ...  ...       ...      ...   ...  ...  \n",
       "1880      CL0    CL3  CL3  CL0       CL0      CL0   CL0  CL5  \n",
       "1881      CL0    CL3  CL5  CL4       CL4      CL5   CL0  CL0  \n",
       "1882      CL2    CL0  CL2  CL0       CL2      CL6   CL0  CL0  \n",
       "1883      CL0    CL3  CL3  CL0       CL3      CL4   CL0  CL0  \n",
       "1884      CL0    CL3  CL3  CL0       CL3      CL6   CL0  CL2  \n",
       "\n",
       "[1885 rows x 19 columns]"
      ]
     },
     "execution_count": 4,
     "metadata": {},
     "output_type": "execute_result"
    }
   ],
   "source": [
    "y"
   ]
  },
  {
   "cell_type": "code",
   "execution_count": 5,
   "metadata": {},
   "outputs": [
    {
     "data": {
      "text/html": [
       "<div>\n",
       "<style scoped>\n",
       "    .dataframe tbody tr th:only-of-type {\n",
       "        vertical-align: middle;\n",
       "    }\n",
       "\n",
       "    .dataframe tbody tr th {\n",
       "        vertical-align: top;\n",
       "    }\n",
       "\n",
       "    .dataframe thead th {\n",
       "        text-align: right;\n",
       "    }\n",
       "</style>\n",
       "<table border=\"1\" class=\"dataframe\">\n",
       "  <thead>\n",
       "    <tr style=\"text-align: right;\">\n",
       "      <th></th>\n",
       "      <th>age</th>\n",
       "      <th>gender</th>\n",
       "      <th>education</th>\n",
       "      <th>country</th>\n",
       "      <th>ethnicity</th>\n",
       "      <th>nscore</th>\n",
       "      <th>escore</th>\n",
       "      <th>oscore</th>\n",
       "      <th>ascore</th>\n",
       "      <th>cscore</th>\n",
       "      <th>...</th>\n",
       "      <th>ecstasy</th>\n",
       "      <th>heroin</th>\n",
       "      <th>ketamine</th>\n",
       "      <th>legalh</th>\n",
       "      <th>lsd</th>\n",
       "      <th>meth</th>\n",
       "      <th>mushrooms</th>\n",
       "      <th>nicotine</th>\n",
       "      <th>semer</th>\n",
       "      <th>vsa</th>\n",
       "    </tr>\n",
       "  </thead>\n",
       "  <tbody>\n",
       "    <tr>\n",
       "      <th>0</th>\n",
       "      <td>0.49788</td>\n",
       "      <td>0.48246</td>\n",
       "      <td>-0.05921</td>\n",
       "      <td>0.96082</td>\n",
       "      <td>0.12600</td>\n",
       "      <td>0.31287</td>\n",
       "      <td>-0.57545</td>\n",
       "      <td>-0.58331</td>\n",
       "      <td>-0.91699</td>\n",
       "      <td>-0.00665</td>\n",
       "      <td>...</td>\n",
       "      <td>CL0</td>\n",
       "      <td>CL0</td>\n",
       "      <td>CL0</td>\n",
       "      <td>CL0</td>\n",
       "      <td>CL0</td>\n",
       "      <td>CL0</td>\n",
       "      <td>CL0</td>\n",
       "      <td>CL2</td>\n",
       "      <td>CL0</td>\n",
       "      <td>CL0</td>\n",
       "    </tr>\n",
       "    <tr>\n",
       "      <th>1</th>\n",
       "      <td>-0.07854</td>\n",
       "      <td>-0.48246</td>\n",
       "      <td>1.98437</td>\n",
       "      <td>0.96082</td>\n",
       "      <td>-0.31685</td>\n",
       "      <td>-0.67825</td>\n",
       "      <td>1.93886</td>\n",
       "      <td>1.43533</td>\n",
       "      <td>0.76096</td>\n",
       "      <td>-0.14277</td>\n",
       "      <td>...</td>\n",
       "      <td>CL4</td>\n",
       "      <td>CL0</td>\n",
       "      <td>CL2</td>\n",
       "      <td>CL0</td>\n",
       "      <td>CL2</td>\n",
       "      <td>CL3</td>\n",
       "      <td>CL0</td>\n",
       "      <td>CL4</td>\n",
       "      <td>CL0</td>\n",
       "      <td>CL0</td>\n",
       "    </tr>\n",
       "    <tr>\n",
       "      <th>2</th>\n",
       "      <td>0.49788</td>\n",
       "      <td>-0.48246</td>\n",
       "      <td>-0.05921</td>\n",
       "      <td>0.96082</td>\n",
       "      <td>-0.31685</td>\n",
       "      <td>-0.46725</td>\n",
       "      <td>0.80523</td>\n",
       "      <td>-0.84732</td>\n",
       "      <td>-1.62090</td>\n",
       "      <td>-1.01450</td>\n",
       "      <td>...</td>\n",
       "      <td>CL0</td>\n",
       "      <td>CL0</td>\n",
       "      <td>CL0</td>\n",
       "      <td>CL0</td>\n",
       "      <td>CL0</td>\n",
       "      <td>CL0</td>\n",
       "      <td>CL1</td>\n",
       "      <td>CL0</td>\n",
       "      <td>CL0</td>\n",
       "      <td>CL0</td>\n",
       "    </tr>\n",
       "    <tr>\n",
       "      <th>3</th>\n",
       "      <td>-0.95197</td>\n",
       "      <td>0.48246</td>\n",
       "      <td>1.16365</td>\n",
       "      <td>0.96082</td>\n",
       "      <td>-0.31685</td>\n",
       "      <td>-0.14882</td>\n",
       "      <td>-0.80615</td>\n",
       "      <td>-0.01928</td>\n",
       "      <td>0.59042</td>\n",
       "      <td>0.58489</td>\n",
       "      <td>...</td>\n",
       "      <td>CL0</td>\n",
       "      <td>CL0</td>\n",
       "      <td>CL2</td>\n",
       "      <td>CL0</td>\n",
       "      <td>CL0</td>\n",
       "      <td>CL0</td>\n",
       "      <td>CL0</td>\n",
       "      <td>CL2</td>\n",
       "      <td>CL0</td>\n",
       "      <td>CL0</td>\n",
       "    </tr>\n",
       "    <tr>\n",
       "      <th>4</th>\n",
       "      <td>0.49788</td>\n",
       "      <td>0.48246</td>\n",
       "      <td>1.98437</td>\n",
       "      <td>0.96082</td>\n",
       "      <td>-0.31685</td>\n",
       "      <td>0.73545</td>\n",
       "      <td>-1.63340</td>\n",
       "      <td>-0.45174</td>\n",
       "      <td>-0.30172</td>\n",
       "      <td>1.30612</td>\n",
       "      <td>...</td>\n",
       "      <td>CL1</td>\n",
       "      <td>CL0</td>\n",
       "      <td>CL0</td>\n",
       "      <td>CL1</td>\n",
       "      <td>CL0</td>\n",
       "      <td>CL0</td>\n",
       "      <td>CL2</td>\n",
       "      <td>CL2</td>\n",
       "      <td>CL0</td>\n",
       "      <td>CL0</td>\n",
       "    </tr>\n",
       "    <tr>\n",
       "      <th>...</th>\n",
       "      <td>...</td>\n",
       "      <td>...</td>\n",
       "      <td>...</td>\n",
       "      <td>...</td>\n",
       "      <td>...</td>\n",
       "      <td>...</td>\n",
       "      <td>...</td>\n",
       "      <td>...</td>\n",
       "      <td>...</td>\n",
       "      <td>...</td>\n",
       "      <td>...</td>\n",
       "      <td>...</td>\n",
       "      <td>...</td>\n",
       "      <td>...</td>\n",
       "      <td>...</td>\n",
       "      <td>...</td>\n",
       "      <td>...</td>\n",
       "      <td>...</td>\n",
       "      <td>...</td>\n",
       "      <td>...</td>\n",
       "      <td>...</td>\n",
       "    </tr>\n",
       "    <tr>\n",
       "      <th>1880</th>\n",
       "      <td>-0.95197</td>\n",
       "      <td>0.48246</td>\n",
       "      <td>-0.61113</td>\n",
       "      <td>-0.57009</td>\n",
       "      <td>-0.31685</td>\n",
       "      <td>-1.19430</td>\n",
       "      <td>1.74091</td>\n",
       "      <td>1.88511</td>\n",
       "      <td>0.76096</td>\n",
       "      <td>-1.13788</td>\n",
       "      <td>...</td>\n",
       "      <td>CL0</td>\n",
       "      <td>CL0</td>\n",
       "      <td>CL0</td>\n",
       "      <td>CL3</td>\n",
       "      <td>CL3</td>\n",
       "      <td>CL0</td>\n",
       "      <td>CL0</td>\n",
       "      <td>CL0</td>\n",
       "      <td>CL0</td>\n",
       "      <td>CL5</td>\n",
       "    </tr>\n",
       "    <tr>\n",
       "      <th>1881</th>\n",
       "      <td>-0.95197</td>\n",
       "      <td>-0.48246</td>\n",
       "      <td>-0.61113</td>\n",
       "      <td>-0.57009</td>\n",
       "      <td>-0.31685</td>\n",
       "      <td>-0.24649</td>\n",
       "      <td>1.74091</td>\n",
       "      <td>0.58331</td>\n",
       "      <td>0.76096</td>\n",
       "      <td>-1.51840</td>\n",
       "      <td>...</td>\n",
       "      <td>CL2</td>\n",
       "      <td>CL0</td>\n",
       "      <td>CL0</td>\n",
       "      <td>CL3</td>\n",
       "      <td>CL5</td>\n",
       "      <td>CL4</td>\n",
       "      <td>CL4</td>\n",
       "      <td>CL5</td>\n",
       "      <td>CL0</td>\n",
       "      <td>CL0</td>\n",
       "    </tr>\n",
       "    <tr>\n",
       "      <th>1882</th>\n",
       "      <td>-0.07854</td>\n",
       "      <td>0.48246</td>\n",
       "      <td>0.45468</td>\n",
       "      <td>-0.57009</td>\n",
       "      <td>-0.31685</td>\n",
       "      <td>1.13281</td>\n",
       "      <td>-1.37639</td>\n",
       "      <td>-1.27553</td>\n",
       "      <td>-1.77200</td>\n",
       "      <td>-1.38502</td>\n",
       "      <td>...</td>\n",
       "      <td>CL4</td>\n",
       "      <td>CL0</td>\n",
       "      <td>CL2</td>\n",
       "      <td>CL0</td>\n",
       "      <td>CL2</td>\n",
       "      <td>CL0</td>\n",
       "      <td>CL2</td>\n",
       "      <td>CL6</td>\n",
       "      <td>CL0</td>\n",
       "      <td>CL0</td>\n",
       "    </tr>\n",
       "    <tr>\n",
       "      <th>1883</th>\n",
       "      <td>-0.95197</td>\n",
       "      <td>0.48246</td>\n",
       "      <td>-0.61113</td>\n",
       "      <td>-0.57009</td>\n",
       "      <td>-0.31685</td>\n",
       "      <td>0.91093</td>\n",
       "      <td>-1.92173</td>\n",
       "      <td>0.29338</td>\n",
       "      <td>-1.62090</td>\n",
       "      <td>-2.57309</td>\n",
       "      <td>...</td>\n",
       "      <td>CL3</td>\n",
       "      <td>CL0</td>\n",
       "      <td>CL0</td>\n",
       "      <td>CL3</td>\n",
       "      <td>CL3</td>\n",
       "      <td>CL0</td>\n",
       "      <td>CL3</td>\n",
       "      <td>CL4</td>\n",
       "      <td>CL0</td>\n",
       "      <td>CL0</td>\n",
       "    </tr>\n",
       "    <tr>\n",
       "      <th>1884</th>\n",
       "      <td>-0.95197</td>\n",
       "      <td>-0.48246</td>\n",
       "      <td>-0.61113</td>\n",
       "      <td>0.21128</td>\n",
       "      <td>-0.31685</td>\n",
       "      <td>-0.46725</td>\n",
       "      <td>2.12700</td>\n",
       "      <td>1.65653</td>\n",
       "      <td>1.11406</td>\n",
       "      <td>0.41594</td>\n",
       "      <td>...</td>\n",
       "      <td>CL3</td>\n",
       "      <td>CL0</td>\n",
       "      <td>CL0</td>\n",
       "      <td>CL3</td>\n",
       "      <td>CL3</td>\n",
       "      <td>CL0</td>\n",
       "      <td>CL3</td>\n",
       "      <td>CL6</td>\n",
       "      <td>CL0</td>\n",
       "      <td>CL2</td>\n",
       "    </tr>\n",
       "  </tbody>\n",
       "</table>\n",
       "<p>1885 rows × 31 columns</p>\n",
       "</div>"
      ],
      "text/plain": [
       "          age   gender  education  country  ethnicity   nscore   escore  \\\n",
       "0     0.49788  0.48246   -0.05921  0.96082    0.12600  0.31287 -0.57545   \n",
       "1    -0.07854 -0.48246    1.98437  0.96082   -0.31685 -0.67825  1.93886   \n",
       "2     0.49788 -0.48246   -0.05921  0.96082   -0.31685 -0.46725  0.80523   \n",
       "3    -0.95197  0.48246    1.16365  0.96082   -0.31685 -0.14882 -0.80615   \n",
       "4     0.49788  0.48246    1.98437  0.96082   -0.31685  0.73545 -1.63340   \n",
       "...       ...      ...        ...      ...        ...      ...      ...   \n",
       "1880 -0.95197  0.48246   -0.61113 -0.57009   -0.31685 -1.19430  1.74091   \n",
       "1881 -0.95197 -0.48246   -0.61113 -0.57009   -0.31685 -0.24649  1.74091   \n",
       "1882 -0.07854  0.48246    0.45468 -0.57009   -0.31685  1.13281 -1.37639   \n",
       "1883 -0.95197  0.48246   -0.61113 -0.57009   -0.31685  0.91093 -1.92173   \n",
       "1884 -0.95197 -0.48246   -0.61113  0.21128   -0.31685 -0.46725  2.12700   \n",
       "\n",
       "       oscore   ascore   cscore  ...  ecstasy  heroin ketamine legalh  lsd  \\\n",
       "0    -0.58331 -0.91699 -0.00665  ...      CL0     CL0      CL0    CL0  CL0   \n",
       "1     1.43533  0.76096 -0.14277  ...      CL4     CL0      CL2    CL0  CL2   \n",
       "2    -0.84732 -1.62090 -1.01450  ...      CL0     CL0      CL0    CL0  CL0   \n",
       "3    -0.01928  0.59042  0.58489  ...      CL0     CL0      CL2    CL0  CL0   \n",
       "4    -0.45174 -0.30172  1.30612  ...      CL1     CL0      CL0    CL1  CL0   \n",
       "...       ...      ...      ...  ...      ...     ...      ...    ...  ...   \n",
       "1880  1.88511  0.76096 -1.13788  ...      CL0     CL0      CL0    CL3  CL3   \n",
       "1881  0.58331  0.76096 -1.51840  ...      CL2     CL0      CL0    CL3  CL5   \n",
       "1882 -1.27553 -1.77200 -1.38502  ...      CL4     CL0      CL2    CL0  CL2   \n",
       "1883  0.29338 -1.62090 -2.57309  ...      CL3     CL0      CL0    CL3  CL3   \n",
       "1884  1.65653  1.11406  0.41594  ...      CL3     CL0      CL0    CL3  CL3   \n",
       "\n",
       "     meth mushrooms nicotine semer  vsa  \n",
       "0     CL0       CL0      CL2   CL0  CL0  \n",
       "1     CL3       CL0      CL4   CL0  CL0  \n",
       "2     CL0       CL1      CL0   CL0  CL0  \n",
       "3     CL0       CL0      CL2   CL0  CL0  \n",
       "4     CL0       CL2      CL2   CL0  CL0  \n",
       "...   ...       ...      ...   ...  ...  \n",
       "1880  CL0       CL0      CL0   CL0  CL5  \n",
       "1881  CL4       CL4      CL5   CL0  CL0  \n",
       "1882  CL0       CL2      CL6   CL0  CL0  \n",
       "1883  CL0       CL3      CL4   CL0  CL0  \n",
       "1884  CL0       CL3      CL6   CL0  CL2  \n",
       "\n",
       "[1885 rows x 31 columns]"
      ]
     },
     "execution_count": 5,
     "metadata": {},
     "output_type": "execute_result"
    }
   ],
   "source": [
    "drug_data"
   ]
  },
  {
   "cell_type": "markdown",
   "metadata": {
    "id": "08FbHK0tqpHm"
   },
   "source": [
    "# Exploratory Data Analysis"
   ]
  },
  {
   "cell_type": "code",
   "execution_count": 6,
   "metadata": {
    "colab": {
     "base_uri": "https://localhost:8080/"
    },
    "id": "A9qYBmkZjXuj",
    "outputId": "e0e89830-bfc2-4d5f-d574-9e67f49b7d8e"
   },
   "outputs": [
    {
     "name": "stdout",
     "output_type": "stream",
     "text": [
      "<class 'pandas.core.frame.DataFrame'>\n",
      "RangeIndex: 1885 entries, 0 to 1884\n",
      "Data columns (total 31 columns):\n",
      " #   Column     Non-Null Count  Dtype  \n",
      "---  ------     --------------  -----  \n",
      " 0   age        1885 non-null   float64\n",
      " 1   gender     1885 non-null   float64\n",
      " 2   education  1885 non-null   float64\n",
      " 3   country    1885 non-null   float64\n",
      " 4   ethnicity  1885 non-null   float64\n",
      " 5   nscore     1885 non-null   float64\n",
      " 6   escore     1885 non-null   float64\n",
      " 7   oscore     1885 non-null   float64\n",
      " 8   ascore     1885 non-null   float64\n",
      " 9   cscore     1885 non-null   float64\n",
      " 10  impuslive  1885 non-null   float64\n",
      " 11  ss         1885 non-null   float64\n",
      " 12  alcohol    1885 non-null   object \n",
      " 13  amphet     1885 non-null   object \n",
      " 14  amyl       1885 non-null   object \n",
      " 15  benzos     1885 non-null   object \n",
      " 16  caff       1885 non-null   object \n",
      " 17  cannabis   1885 non-null   object \n",
      " 18  choc       1885 non-null   object \n",
      " 19  coke       1885 non-null   object \n",
      " 20  crack      1885 non-null   object \n",
      " 21  ecstasy    1885 non-null   object \n",
      " 22  heroin     1885 non-null   object \n",
      " 23  ketamine   1885 non-null   object \n",
      " 24  legalh     1885 non-null   object \n",
      " 25  lsd        1885 non-null   object \n",
      " 26  meth       1885 non-null   object \n",
      " 27  mushrooms  1885 non-null   object \n",
      " 28  nicotine   1885 non-null   object \n",
      " 29  semer      1885 non-null   object \n",
      " 30  vsa        1885 non-null   object \n",
      "dtypes: float64(12), object(19)\n",
      "memory usage: 456.7+ KB\n",
      "None\n"
     ]
    }
   ],
   "source": [
    "# Dataset Info\n",
    "print(drug_data.info())\n"
   ]
  },
  {
   "cell_type": "code",
   "execution_count": 7,
   "metadata": {
    "colab": {
     "base_uri": "https://localhost:8080/"
    },
    "id": "PsBQHNkcrZWS",
    "outputId": "d29ed161-9452-461a-8408-ac4ccf14e0d9"
   },
   "outputs": [
    {
     "name": "stdout",
     "output_type": "stream",
     "text": [
      "age          0\n",
      "gender       0\n",
      "education    0\n",
      "country      0\n",
      "ethnicity    0\n",
      "nscore       0\n",
      "escore       0\n",
      "oscore       0\n",
      "ascore       0\n",
      "cscore       0\n",
      "impuslive    0\n",
      "ss           0\n",
      "alcohol      0\n",
      "amphet       0\n",
      "amyl         0\n",
      "benzos       0\n",
      "caff         0\n",
      "cannabis     0\n",
      "choc         0\n",
      "coke         0\n",
      "crack        0\n",
      "ecstasy      0\n",
      "heroin       0\n",
      "ketamine     0\n",
      "legalh       0\n",
      "lsd          0\n",
      "meth         0\n",
      "mushrooms    0\n",
      "nicotine     0\n",
      "semer        0\n",
      "vsa          0\n",
      "dtype: int64\n"
     ]
    }
   ],
   "source": [
    "# Checking for null values\n",
    "print(drug_data.isnull().sum())"
   ]
  },
  {
   "cell_type": "code",
   "execution_count": 8,
   "metadata": {
    "colab": {
     "base_uri": "https://localhost:8080/"
    },
    "id": "91JLwHp5ro70",
    "outputId": "64466298-b975-46b8-bcfc-1b5c04e40ef5"
   },
   "outputs": [
    {
     "name": "stdout",
     "output_type": "stream",
     "text": [
      "              age       gender    education      country    ethnicity  \\\n",
      "count  1885.00000  1885.000000  1885.000000  1885.000000  1885.000000   \n",
      "mean      0.03461    -0.000256    -0.003806     0.355542    -0.309577   \n",
      "std       0.87836     0.482588     0.950078     0.700335     0.166226   \n",
      "min      -0.95197    -0.482460    -2.435910    -0.570090    -1.107020   \n",
      "25%      -0.95197    -0.482460    -0.611130    -0.570090    -0.316850   \n",
      "50%      -0.07854    -0.482460    -0.059210     0.960820    -0.316850   \n",
      "75%       0.49788     0.482460     0.454680     0.960820    -0.316850   \n",
      "max       2.59171     0.482460     1.984370     0.960820     1.907250   \n",
      "\n",
      "            nscore       escore       oscore       ascore       cscore  \\\n",
      "count  1885.000000  1885.000000  1885.000000  1885.000000  1885.000000   \n",
      "mean      0.000047    -0.000163    -0.000534    -0.000245    -0.000386   \n",
      "std       0.998106     0.997448     0.996229     0.997440     0.997523   \n",
      "min      -3.464360    -3.273930    -3.273930    -3.464360    -3.464360   \n",
      "25%      -0.678250    -0.695090    -0.717270    -0.606330    -0.652530   \n",
      "50%       0.042570     0.003320    -0.019280    -0.017290    -0.006650   \n",
      "75%       0.629670     0.637790     0.723300     0.760960     0.584890   \n",
      "max       3.273930     3.273930     2.901610     3.464360     3.464360   \n",
      "\n",
      "         impuslive           ss  \n",
      "count  1885.000000  1885.000000  \n",
      "mean      0.007216    -0.003292  \n",
      "std       0.954435     0.963701  \n",
      "min      -2.555240    -2.078480  \n",
      "25%      -0.711260    -0.525930  \n",
      "50%      -0.217120     0.079870  \n",
      "75%       0.529750     0.765400  \n",
      "max       2.901610     1.921730  \n"
     ]
    }
   ],
   "source": [
    "# The drug dataset statistics\n",
    "print(drug_data.describe())\n"
   ]
  },
  {
   "cell_type": "code",
   "execution_count": 11,
   "metadata": {
    "colab": {
     "base_uri": "https://localhost:8080/"
    },
    "id": "Bi0BO5LWvM2B",
    "outputId": "497cc295-6cc8-4379-d8a4-0e8e31e9b6f8"
   },
   "outputs": [
    {
     "data": {
      "image/png": "[encoded data removed]",
      "text/plain": [
       "<Figure size 1000x800 with 12 Axes>"
      ]
     },
     "metadata": {},
     "output_type": "display_data"
    }
   ],
   "source": [
    "# Plot histogram for each feature\n",
    "X.hist(figsize=(10, 8), bins=20)\n",
    "plt.tight_layout()\n",
    "plt.savefig('C:/Users/user/Desktop/SALFORD 2/histogram_plot.png', dpi=300, bbox_inches='tight')\n",
    "plt.show()"
   ]
  },
  {
   "cell_type": "markdown",
   "metadata": {
    "id": "6lOR9LnKytFj"
   },
   "source": [
    "# Preprocessing"
   ]
  },
  {
   "cell_type": "code",
   "execution_count": 12,
   "metadata": {
    "colab": {
     "base_uri": "https://localhost:8080/"
    },
    "id": "AZBn_5Qb3hE2",
    "outputId": "b1c3f299-efe3-4790-bea1-c4b4104f7362"
   },
   "outputs": [
    {
     "name": "stdout",
     "output_type": "stream",
     "text": [
      "Index: 0, Column Name: age\n",
      "Index: 1, Column Name: gender\n",
      "Index: 2, Column Name: education\n",
      "Index: 3, Column Name: country\n",
      "Index: 4, Column Name: ethnicity\n",
      "Index: 5, Column Name: nscore\n",
      "Index: 6, Column Name: escore\n",
      "Index: 7, Column Name: oscore\n",
      "Index: 8, Column Name: ascore\n",
      "Index: 9, Column Name: cscore\n",
      "Index: 10, Column Name: impuslive\n",
      "Index: 11, Column Name: ss\n",
      "Index: 12, Column Name: alcohol\n",
      "Index: 13, Column Name: amphet\n",
      "Index: 14, Column Name: amyl\n",
      "Index: 15, Column Name: benzos\n",
      "Index: 16, Column Name: caff\n",
      "Index: 17, Column Name: cannabis\n",
      "Index: 18, Column Name: choc\n",
      "Index: 19, Column Name: coke\n",
      "Index: 20, Column Name: crack\n",
      "Index: 21, Column Name: ecstasy\n",
      "Index: 22, Column Name: heroin\n",
      "Index: 23, Column Name: ketamine\n",
      "Index: 24, Column Name: legalh\n",
      "Index: 25, Column Name: lsd\n",
      "Index: 26, Column Name: meth\n",
      "Index: 27, Column Name: mushrooms\n",
      "Index: 28, Column Name: nicotine\n",
      "Index: 29, Column Name: semer\n",
      "Index: 30, Column Name: vsa\n"
     ]
    }
   ],
   "source": [
    "# Getting the name of the columns and their index\n",
    "for index, column_name in enumerate(drug_data.columns):\n",
    "    print(f\"Index: {index}, Column Name: {column_name}\")\n"
   ]
  },
  {
   "cell_type": "markdown",
   "metadata": {
    "id": "7rJf9AsfVRq3"
   },
   "source": [
    "# Preprocessing for Alcohol"
   ]
  },
  {
   "cell_type": "code",
   "execution_count": 13,
   "metadata": {
    "id": "8q4Fhqosyp_9"
   },
   "outputs": [],
   "source": [
    "target_column = 12\n",
    "X = drug_data.iloc[:, :12]  \n",
    "y_alcohol = drug_data.iloc[:, target_column]\n",
    "\n",
    "# Train-test split\n",
    "from sklearn.model_selection import train_test_split\n",
    "X_train_alcohol, X_test_alcohol, y_train_alcohol, y_test_alcohol = train_test_split(X, y_alcohol, test_size=0.2, random_state=42)\n",
    "\n",
    "# Feature scaling\n",
    "from sklearn.preprocessing import StandardScaler\n",
    "scaler_alcohol = StandardScaler()\n",
    "X_train_alcohol = scaler_alcohol.fit_transform(X_train_alcohol)\n",
    "X_test_alcohol = scaler_alcohol.transform(X_test_alcohol)\n"
   ]
  },
  {
   "cell_type": "markdown",
   "metadata": {
    "id": "MJ4eLzD988cn"
   },
   "source": [
    "# Model Training for the target `Alcohol`"
   ]
  },
  {
   "cell_type": "code",
   "execution_count": 14,
   "metadata": {
    "id": "OUf0OE7ULYmm"
   },
   "outputs": [],
   "source": [
    "# Random Forest Classifier\n",
    "rf_model = RandomForestClassifier(random_state=42)\n",
    "rf_model.fit(X_train_alcohol, y_train_alcohol)\n",
    "rf_predictions = rf_model.predict(X_test_alcohol)\n",
    "\n",
    "# SVM Classifier\n",
    "svm_model = SVC(kernel='rbf', random_state=42, probability=True)\n",
    "svm_model.fit(X_train_alcohol, y_train_alcohol)\n",
    "svm_predictions = svm_model.predict(X_test_alcohol)\n",
    "\n",
    "# Accuracy Scores\n",
    "rf_accuracy = accuracy_score(y_test_alcohol, rf_predictions)\n",
    "svm_accuracy = accuracy_score(y_test_alcohol, svm_predictions)"
   ]
  },
  {
   "cell_type": "code",
   "execution_count": 15,
   "metadata": {
    "colab": {
     "base_uri": "https://localhost:8080/"
    },
    "id": "JSvNv6TlLilO",
    "outputId": "1dd9f513-c109-4b90-e769-7266fc89d45c"
   },
   "outputs": [
    {
     "name": "stdout",
     "output_type": "stream",
     "text": [
      "Random Forest Classifier Accuracy: 0.3660\n",
      "SVM Classifier Accuracy: 0.4058\n"
     ]
    }
   ],
   "source": [
    "# Print Accuracy Scores\n",
    "print(f\"Random Forest Classifier Accuracy: {rf_accuracy:.4f}\")\n",
    "print(f\"SVM Classifier Accuracy: {svm_accuracy:.4f}\")"
   ]
  },
  {
   "cell_type": "code",
   "execution_count": 16,
   "metadata": {
    "colab": {
     "base_uri": "https://localhost:8080/"
    },
    "id": "HqPF9pQuLqIa",
    "outputId": "bf4b51b9-5714-4324-ef5c-87ecd9503a06"
   },
   "outputs": [
    {
     "name": "stdout",
     "output_type": "stream",
     "text": [
      "\n",
      "Random Forest Classification Report:\n",
      "              precision    recall  f1-score   support\n",
      "\n",
      "         CL0       0.00      0.00      0.00         7\n",
      "         CL1       0.00      0.00      0.00         7\n",
      "         CL2       0.00      0.00      0.00        16\n",
      "         CL3       0.09      0.03      0.04        34\n",
      "         CL4       0.29      0.06      0.10        68\n",
      "         CL5       0.41      0.74      0.53       153\n",
      "         CL6       0.26      0.22      0.24        92\n",
      "\n",
      "    accuracy                           0.37       377\n",
      "   macro avg       0.15      0.15      0.13       377\n",
      "weighted avg       0.29      0.37      0.29       377\n",
      "\n"
     ]
    }
   ],
   "source": [
    "# Classification Report for both models\n",
    "print(\"\\nRandom Forest Classification Report:\")\n",
    "print(classification_report(y_test_alcohol, rf_predictions, zero_division=0))"
   ]
  },
  {
   "cell_type": "code",
   "execution_count": 17,
   "metadata": {
    "colab": {
     "base_uri": "https://localhost:8080/"
    },
    "id": "3yhgDoh-LrSq",
    "outputId": "ee249619-7948-4efd-ae0e-f8e559f968f5"
   },
   "outputs": [
    {
     "name": "stdout",
     "output_type": "stream",
     "text": [
      "\n",
      "SVM Classification Report:\n",
      "              precision    recall  f1-score   support\n",
      "\n",
      "         CL0       0.00      0.00      0.00         7\n",
      "         CL1       0.00      0.00      0.00         7\n",
      "         CL2       0.00      0.00      0.00        16\n",
      "         CL3       0.00      0.00      0.00        34\n",
      "         CL4       0.00      0.00      0.00        68\n",
      "         CL5       0.42      0.87      0.56       153\n",
      "         CL6       0.35      0.22      0.27        92\n",
      "\n",
      "    accuracy                           0.41       377\n",
      "   macro avg       0.11      0.16      0.12       377\n",
      "weighted avg       0.25      0.41      0.29       377\n",
      "\n"
     ]
    }
   ],
   "source": [
    "print(\"\\nSVM Classification Report:\")\n",
    "print(classification_report(y_test_alcohol, svm_predictions, zero_division=0))"
   ]
  },
  {
   "cell_type": "code",
   "execution_count": 18,
   "metadata": {
    "colab": {
     "base_uri": "https://localhost:8080/"
    },
    "id": "HUoJL2HtLOgf",
    "outputId": "966898ba-3732-4b88-ba27-2109081a7f92"
   },
   "outputs": [
    {
     "data": {
      "image/png": "[encoded data removed]",
      "text/plain": [
       "<Figure size 1500x600 with 2 Axes>"
      ]
     },
     "metadata": {},
     "output_type": "display_data"
    }
   ],
   "source": [
    "# Confusion Matrices for both models\n",
    "fig, axes = plt.subplots(1, 2, figsize=(15, 6))\n",
    "\n",
    "# Random Forest Confusion Matrix\n",
    "cm_rf = confusion_matrix(y_test_alcohol, rf_predictions)\n",
    "sns.heatmap(cm_rf, annot=True, fmt=\"d\", cmap=\"Blues\", ax=axes[0], cbar=False)\n",
    "axes[0].set_title(\"Random Forest Confusion Matrix\")\n",
    "axes[0].set_xlabel('Predicted')\n",
    "axes[0].set_ylabel('True')\n",
    "\n",
    "# SVM Confusion Matrix\n",
    "cm_svm = confusion_matrix(y_test_alcohol, svm_predictions)\n",
    "sns.heatmap(cm_svm, annot=True, fmt=\"d\", cmap=\"Blues\", ax=axes[1], cbar=False)\n",
    "axes[1].set_title(\"SVM Confusion Matrix\")\n",
    "axes[1].set_xlabel('Predicted')\n",
    "axes[1].set_ylabel('True')\n",
    "\n",
    "plt.tight_layout()\n",
    "plt.savefig('C:/Users/user/Desktop/SALFORD 2/alcohol_matrice.png', dpi=300, bbox_inches='tight')\n",
    "plt.show()\n",
    "\n"
   ]
  },
  {
   "cell_type": "markdown",
   "metadata": {
    "id": "nXtfw0UPV2Dj"
   },
   "source": [
    "# Preprocessing for the target `Amphet`"
   ]
  },
  {
   "cell_type": "code",
   "execution_count": 19,
   "metadata": {
    "id": "2XRx0n1zV29x"
   },
   "outputs": [],
   "source": [
    "target_column = 13\n",
    "X = drug_data.iloc[:, :12]\n",
    "y_amphet = drug_data.iloc[:, target_column]\n",
    "\n",
    "# Train-test split\n",
    "from sklearn.model_selection import train_test_split\n",
    "X_train_amphet, X_test_amphet, y_train_amphet, y_test_amphet = train_test_split(X, y_amphet, test_size=0.2, random_state=42)\n",
    "\n",
    "# Feature scaling\n",
    "from sklearn.preprocessing import StandardScaler\n",
    "scaler_amphet = StandardScaler()\n",
    "X_train_amphet = scaler_amphet.fit_transform(X_train_amphet)\n",
    "X_test_amphet = scaler_amphet.transform(X_test_amphet)\n"
   ]
  },
  {
   "cell_type": "markdown",
   "metadata": {
    "id": "jhYAUmsTUjoY"
   },
   "source": [
    "# Model Training for the target `amphet`"
   ]
  },
  {
   "cell_type": "code",
   "execution_count": 149,
   "metadata": {
    "id": "U_CaOwYcMZIJ"
   },
   "outputs": [],
   "source": [
    "# Random Forest Classifier\n",
    "rf_model = RandomForestClassifier(random_state=42)\n",
    "rf_model.fit(X_train_amphet, y_train_amphet)\n",
    "rf_predictions = rf_model.predict(X_test_amphet)\n",
    "\n",
    "# SVM Classifier\n",
    "svm_model = SVC(kernel='rbf', random_state=42, probability=True)\n",
    "svm_model.fit(X_train_amphet, y_train_amphet)\n",
    "svm_predictions = svm_model.predict(X_test_amphet)\n",
    "\n",
    "# Accuracy Scores\n",
    "rf_accuracy = accuracy_score(y_test_amphet, rf_predictions)\n",
    "svm_accuracy = accuracy_score(y_test_amphet, svm_predictions)"
   ]
  },
  {
   "cell_type": "code",
   "execution_count": 150,
   "metadata": {
    "colab": {
     "base_uri": "https://localhost:8080/"
    },
    "id": "-BYuCz2nUGw8",
    "outputId": "b0f58285-e4a5-4eae-cfbf-f40c28fff53c"
   },
   "outputs": [
    {
     "name": "stdout",
     "output_type": "stream",
     "text": [
      "Random Forest Classifier Accuracy: 0.5093\n",
      "SVM Classifier Accuracy: 0.5119\n"
     ]
    }
   ],
   "source": [
    "# Print Accuracy Scores\n",
    "print(f\"Random Forest Classifier Accuracy: {rf_accuracy:.4f}\")\n",
    "print(f\"SVM Classifier Accuracy: {svm_accuracy:.4f}\")"
   ]
  },
  {
   "cell_type": "code",
   "execution_count": 151,
   "metadata": {
    "colab": {
     "base_uri": "https://localhost:8080/"
    },
    "id": "lFkoHKeZUI5w",
    "outputId": "3f4d1ec8-6a97-48e9-8506-ce7140d8b8a2"
   },
   "outputs": [
    {
     "name": "stdout",
     "output_type": "stream",
     "text": [
      "\n",
      "Random Forest Classification Report:\n",
      "              precision    recall  f1-score   support\n",
      "\n",
      "         CL0       0.58      0.90      0.70       196\n",
      "         CL1       0.50      0.09      0.16        53\n",
      "         CL2       0.13      0.04      0.07        46\n",
      "         CL3       0.21      0.19      0.20        42\n",
      "         CL4       0.00      0.00      0.00        13\n",
      "         CL5       0.00      0.00      0.00        11\n",
      "         CL6       0.00      0.00      0.00        16\n",
      "\n",
      "    accuracy                           0.51       377\n",
      "   macro avg       0.20      0.18      0.16       377\n",
      "weighted avg       0.41      0.51      0.42       377\n",
      "\n"
     ]
    }
   ],
   "source": [
    "# Classification Report for both models\n",
    "print(\"\\nRandom Forest Classification Report:\")\n",
    "print(classification_report(y_test_amphet, rf_predictions, zero_division=0))"
   ]
  },
  {
   "cell_type": "code",
   "execution_count": 152,
   "metadata": {
    "colab": {
     "base_uri": "https://localhost:8080/"
    },
    "id": "RGT49JNSUJtH",
    "outputId": "26663510-8dcc-493f-9bb7-dd08be903990"
   },
   "outputs": [
    {
     "name": "stdout",
     "output_type": "stream",
     "text": [
      "\n",
      "SVM Classification Report:\n",
      "              precision    recall  f1-score   support\n",
      "\n",
      "         CL0       0.55      0.95      0.69       196\n",
      "         CL1       0.50      0.02      0.04        53\n",
      "         CL2       0.00      0.00      0.00        46\n",
      "         CL3       0.18      0.14      0.16        42\n",
      "         CL4       0.00      0.00      0.00        13\n",
      "         CL5       0.00      0.00      0.00        11\n",
      "         CL6       0.00      0.00      0.00        16\n",
      "\n",
      "    accuracy                           0.51       377\n",
      "   macro avg       0.18      0.16      0.13       377\n",
      "weighted avg       0.37      0.51      0.38       377\n",
      "\n"
     ]
    }
   ],
   "source": [
    "print(\"\\nSVM Classification Report:\")\n",
    "print(classification_report(y_test_amphet, svm_predictions, zero_division=0))"
   ]
  },
  {
   "cell_type": "code",
   "execution_count": 153,
   "metadata": {
    "colab": {
     "base_uri": "https://localhost:8080/"
    },
    "id": "cyKFDFziXs3A",
    "outputId": "49c7a492-a284-4ce1-9bbe-7b8c39780ec3"
   },
   "outputs": [
    {
     "data": {
      "image/png": "[encoded data removed]",
      "text/plain": [
       "<Figure size 1500x600 with 2 Axes>"
      ]
     },
     "metadata": {},
     "output_type": "display_data"
    }
   ],
   "source": [
    "# Confusion Matrices for both models\n",
    "fig, axes = plt.subplots(1, 2, figsize=(15, 6))\n",
    "\n",
    "# Random Forest Confusion Matrix\n",
    "cm_rf = confusion_matrix(y_test_amphet, rf_predictions)\n",
    "sns.heatmap(cm_rf, annot=True, fmt=\"d\", cmap=\"Blues\", ax=axes[0], cbar=False)\n",
    "axes[0].set_title(\"Random Forest Confusion Matrix\")\n",
    "axes[0].set_xlabel('Predicted')\n",
    "axes[0].set_ylabel('True')\n",
    "\n",
    "# SVM Confusion Matrix\n",
    "cm_svm = confusion_matrix(y_test_amphet, svm_predictions)\n",
    "sns.heatmap(cm_svm, annot=True, fmt=\"d\", cmap=\"Blues\", ax=axes[1], cbar=False)\n",
    "axes[1].set_title(\"SVM Confusion Matrix\")\n",
    "axes[1].set_xlabel('Predicted')\n",
    "axes[1].set_ylabel('True')\n",
    "\n",
    "plt.tight_layout()\n",
    "plt.savefig('C:/Users/user/Desktop/SALFORD 2/amphet_plot.png', dpi=300, bbox_inches='tight')\n",
    "plt.show()\n",
    "\n"
   ]
  },
  {
   "cell_type": "markdown",
   "metadata": {
    "id": "p364Nq_haME1"
   },
   "source": [
    "# Preprocessing for the target `amyl`"
   ]
  },
  {
   "cell_type": "code",
   "execution_count": 155,
   "metadata": {
    "id": "jSNd5BIgaSLj"
   },
   "outputs": [],
   "source": [
    "target_column = 14\n",
    "X = drug_data.iloc[:, :12]\n",
    "y_amyl = drug_data.iloc[:, target_column]\n",
    "\n",
    "# Train-test split\n",
    "from sklearn.model_selection import train_test_split\n",
    "X_train_amyl, X_test_amyl, y_train_amyl, y_test_amyl = train_test_split(X, y_amyl, test_size=0.2, random_state=42)\n",
    "\n",
    "# Feature scaling\n",
    "from sklearn.preprocessing import StandardScaler\n",
    "scaler_amyl = StandardScaler()\n",
    "X_train_amyl = scaler_amyl.fit_transform(X_train_amyl)\n",
    "X_test_amyl = scaler_amyl.transform(X_test_amyl)\n"
   ]
  },
  {
   "cell_type": "markdown",
   "metadata": {
    "id": "Sps9MynhaQpl"
   },
   "source": [
    "# Model Training for the target `amyl`"
   ]
  },
  {
   "cell_type": "code",
   "execution_count": 156,
   "metadata": {
    "id": "4wgNoAbZXtoL"
   },
   "outputs": [],
   "source": [
    "# Random Forest Classifier\n",
    "rf_model = RandomForestClassifier(random_state=42)\n",
    "rf_model.fit(X_train_amyl, y_train_amyl)\n",
    "rf_predictions = rf_model.predict(X_test_amyl)\n",
    "\n",
    "# SVM Classifier\n",
    "svm_model = SVC(kernel='rbf', random_state=42, probability=True)\n",
    "svm_model.fit(X_train_amyl, y_train_amyl)\n",
    "svm_predictions = svm_model.predict(X_test_amyl)\n",
    "\n",
    "# Accuracy Scores\n",
    "rf_accuracy = accuracy_score(y_test_amyl, rf_predictions)\n",
    "svm_accuracy = accuracy_score(y_test_amyl, svm_predictions)"
   ]
  },
  {
   "cell_type": "code",
   "execution_count": 157,
   "metadata": {
    "colab": {
     "base_uri": "https://localhost:8080/"
    },
    "id": "wxSltWn4UKyq",
    "outputId": "be3c5849-429d-433e-9749-d22bf61abbd9"
   },
   "outputs": [
    {
     "name": "stdout",
     "output_type": "stream",
     "text": [
      "Random Forest Classifier Accuracy: 0.6976\n",
      "SVM Classifier Accuracy: 0.6923\n"
     ]
    }
   ],
   "source": [
    "# Print Accuracy Scores\n",
    "print(f\"Random Forest Classifier Accuracy: {rf_accuracy:.4f}\")\n",
    "print(f\"SVM Classifier Accuracy: {svm_accuracy:.4f}\")"
   ]
  },
  {
   "cell_type": "code",
   "execution_count": 158,
   "metadata": {
    "colab": {
     "base_uri": "https://localhost:8080/"
    },
    "id": "JEBLg5BNZRfr",
    "outputId": "e89d2d3a-a134-4f37-df27-2cb3c0c37543"
   },
   "outputs": [
    {
     "name": "stdout",
     "output_type": "stream",
     "text": [
      "\n",
      "Random Forest Classification Report:\n",
      "              precision    recall  f1-score   support\n",
      "\n",
      "         CL0       0.71      0.97      0.82       261\n",
      "         CL1       0.60      0.13      0.22        45\n",
      "         CL2       0.43      0.07      0.12        44\n",
      "         CL3       0.00      0.00      0.00        20\n",
      "         CL4       0.00      0.00      0.00         6\n",
      "         CL5       0.00      0.00      0.00         1\n",
      "\n",
      "    accuracy                           0.70       377\n",
      "   macro avg       0.29      0.20      0.19       377\n",
      "weighted avg       0.61      0.70      0.61       377\n",
      "\n"
     ]
    }
   ],
   "source": [
    "# Classification Report for both models\n",
    "print(\"\\nRandom Forest Classification Report:\")\n",
    "print(classification_report(y_test_amyl, rf_predictions, zero_division=0))"
   ]
  },
  {
   "cell_type": "code",
   "execution_count": 159,
   "metadata": {
    "colab": {
     "base_uri": "https://localhost:8080/"
    },
    "id": "NYZGqpFUZSj2",
    "outputId": "f85ba52b-be49-4505-8b93-42249eaf806c"
   },
   "outputs": [
    {
     "name": "stdout",
     "output_type": "stream",
     "text": [
      "\n",
      "SVM Classification Report:\n",
      "              precision    recall  f1-score   support\n",
      "\n",
      "         CL0       0.69      1.00      0.82       261\n",
      "         CL1       1.00      0.02      0.04        45\n",
      "         CL2       0.00      0.00      0.00        44\n",
      "         CL3       0.00      0.00      0.00        20\n",
      "         CL4       0.00      0.00      0.00         6\n",
      "         CL5       0.00      0.00      0.00         1\n",
      "\n",
      "    accuracy                           0.69       377\n",
      "   macro avg       0.28      0.17      0.14       377\n",
      "weighted avg       0.60      0.69      0.57       377\n",
      "\n"
     ]
    }
   ],
   "source": [
    "print(\"\\nSVM Classification Report:\")\n",
    "print(classification_report(y_test_amyl, svm_predictions, zero_division=0))"
   ]
  },
  {
   "cell_type": "code",
   "execution_count": 160,
   "metadata": {
    "colab": {
     "base_uri": "https://localhost:8080/"
    },
    "id": "74vdl5tyZTTU",
    "outputId": "fecd5adf-b0e1-4742-e1bc-410cd88113d6"
   },
   "outputs": [
    {
     "data": {
      "image/png": "[encoded data removed]",
      "text/plain": [
       "<Figure size 1500x600 with 2 Axes>"
      ]
     },
     "metadata": {},
     "output_type": "display_data"
    }
   ],
   "source": [
    "# Confusion Matrices for both models\n",
    "fig, axes = plt.subplots(1, 2, figsize=(15, 6))\n",
    "\n",
    "# Random Forest Confusion Matrix\n",
    "cm_rf = confusion_matrix(y_test_amyl, rf_predictions)\n",
    "sns.heatmap(cm_rf, annot=True, fmt=\"d\", cmap=\"Oranges\", ax=axes[0], cbar=False)\n",
    "axes[0].set_title(\"Random Forest Confusion Matrix\")\n",
    "axes[0].set_xlabel('Predicted')\n",
    "axes[0].set_ylabel('True')\n",
    "\n",
    "# SVM Confusion Matrix\n",
    "cm_svm = confusion_matrix(y_test_amyl, svm_predictions)\n",
    "sns.heatmap(cm_svm, annot=True, fmt=\"d\", cmap=\"Oranges\", ax=axes[1], cbar=False)\n",
    "axes[1].set_title(\"SVM Confusion Matrix\")\n",
    "axes[1].set_xlabel('Predicted')\n",
    "axes[1].set_ylabel('True')\n",
    "\n",
    "plt.tight_layout()\n",
    "plt.savefig('C:/Users/user/Desktop/SALFORD 2/amyl_plot.png', dpi=300, bbox_inches='tight')\n",
    "plt.show()\n",
    "\n"
   ]
  },
  {
   "cell_type": "markdown",
   "metadata": {
    "id": "Iu9PUoKHZVLG"
   },
   "source": [
    " # Preprocessing for Benzos"
   ]
  },
  {
   "cell_type": "code",
   "execution_count": 162,
   "metadata": {},
   "outputs": [],
   "source": [
    "target_column = 15\n",
    "X = drug_data.iloc[:, :12]\n",
    "y_benzos = drug_data.iloc[:, target_column]\n"
   ]
  },
  {
   "cell_type": "code",
   "execution_count": 163,
   "metadata": {},
   "outputs": [],
   "source": [
    "# Train-test split\n",
    "from sklearn.model_selection import train_test_split\n",
    "X_train_benzos, X_test_benzos, y_train_benzos, y_test_benzos = train_test_split(X, y_benzos, test_size=0.2, random_state=42)\n",
    "\n",
    "# Feature scaling\n",
    "from sklearn.preprocessing import StandardScaler\n",
    "scaler_benzos = StandardScaler()\n",
    "X_train_benzos = scaler_benzos.fit_transform(X_train_benzos)\n",
    "X_test_benzos = scaler_benzos.transform(X_test_benzos)\n"
   ]
  },
  {
   "cell_type": "code",
   "execution_count": 164,
   "metadata": {},
   "outputs": [],
   "source": [
    "# Random Forest Classifier\n",
    "rf_model = RandomForestClassifier(random_state=42)\n",
    "rf_model.fit(X_train_benzos, y_train_benzos)\n",
    "rf_predictions = rf_model.predict(X_test_benzos)\n",
    "\n",
    "# SVM Classifier\n",
    "svm_model = SVC(kernel='rbf', random_state=42, probability=True)\n",
    "svm_model.fit(X_train_benzos, y_train_benzos)\n",
    "svm_predictions = svm_model.predict(X_test_benzos)\n",
    "\n",
    "# Accuracy Scores\n",
    "rf_accuracy = accuracy_score(y_test_benzos, rf_predictions)\n",
    "svm_accuracy = accuracy_score(y_test_benzos, svm_predictions)\n"
   ]
  },
  {
   "cell_type": "code",
   "execution_count": 165,
   "metadata": {},
   "outputs": [
    {
     "name": "stdout",
     "output_type": "stream",
     "text": [
      "Random Forest Classifier Accuracy: 0.5491\n",
      "SVM Classifier Accuracy: 0.5491\n"
     ]
    }
   ],
   "source": [
    "# Print Accuracy Scores\n",
    "print(f\"Random Forest Classifier Accuracy: {rf_accuracy:.4f}\")\n",
    "print(f\"SVM Classifier Accuracy: {svm_accuracy:.4f}\")\n"
   ]
  },
  {
   "cell_type": "code",
   "execution_count": 166,
   "metadata": {},
   "outputs": [
    {
     "name": "stdout",
     "output_type": "stream",
     "text": [
      "\n",
      "Random Forest Classification Report:\n",
      "              precision    recall  f1-score   support\n",
      "\n",
      "         CL0       0.60      0.95      0.74       203\n",
      "         CL1       1.00      0.05      0.09        21\n",
      "         CL2       0.11      0.03      0.04        38\n",
      "         CL3       0.38      0.20      0.26        51\n",
      "         CL4       0.09      0.04      0.05        27\n",
      "         CL5       0.00      0.00      0.00        15\n",
      "         CL6       0.29      0.09      0.14        22\n",
      "\n",
      "    accuracy                           0.55       377\n",
      "   macro avg       0.35      0.19      0.19       377\n",
      "weighted avg       0.47      0.55      0.45       377\n",
      "\n"
     ]
    }
   ],
   "source": [
    "# Classification Report for both models\n",
    "print(\"\\nRandom Forest Classification Report:\")\n",
    "print(classification_report(y_test_benzos, rf_predictions, zero_division=0))\n"
   ]
  },
  {
   "cell_type": "code",
   "execution_count": 167,
   "metadata": {},
   "outputs": [
    {
     "name": "stdout",
     "output_type": "stream",
     "text": [
      "\n",
      "SVM Classification Report:\n",
      "              precision    recall  f1-score   support\n",
      "\n",
      "         CL0       0.56      1.00      0.71       203\n",
      "         CL1       0.00      0.00      0.00        21\n",
      "         CL2       0.40      0.05      0.09        38\n",
      "         CL3       0.50      0.06      0.11        51\n",
      "         CL4       0.00      0.00      0.00        27\n",
      "         CL5       0.00      0.00      0.00        15\n",
      "         CL6       0.00      0.00      0.00        22\n",
      "\n",
      "    accuracy                           0.55       377\n",
      "   macro avg       0.21      0.16      0.13       377\n",
      "weighted avg       0.41      0.55      0.41       377\n",
      "\n"
     ]
    }
   ],
   "source": [
    "print(\"\\nSVM Classification Report:\")\n",
    "print(classification_report(y_test_benzos, svm_predictions, zero_division=0))\n"
   ]
  },
  {
   "cell_type": "code",
   "execution_count": 168,
   "metadata": {},
   "outputs": [
    {
     "data": {
      "image/png": "[encoded data removed]",
      "text/plain": [
       "<Figure size 1500x600 with 2 Axes>"
      ]
     },
     "metadata": {},
     "output_type": "display_data"
    }
   ],
   "source": [
    "# Confusion Matrices for both models\n",
    "fig, axes = plt.subplots(1, 2, figsize=(15, 6))\n",
    "\n",
    "# Random Forest Confusion Matrix\n",
    "cm_rf = confusion_matrix(y_test_benzos, rf_predictions)\n",
    "sns.heatmap(cm_rf, annot=True, fmt=\"d\", cmap=\"Purples\", ax=axes[0], cbar=False)\n",
    "axes[0].set_title(\"Random Forest Confusion Matrix\")\n",
    "axes[0].set_xlabel('Predicted')\n",
    "axes[0].set_ylabel('True')\n",
    "\n",
    "# SVM Confusion Matrix\n",
    "cm_svm = confusion_matrix(y_test_benzos, svm_predictions)\n",
    "sns.heatmap(cm_svm, annot=True, fmt=\"d\", cmap=\"Purples\", ax=axes[1], cbar=False)\n",
    "axes[1].set_title(\"SVM Confusion Matrix\")\n",
    "axes[1].set_xlabel('Predicted')\n",
    "axes[1].set_ylabel('True')\n",
    "\n",
    "plt.tight_layout()\n",
    "plt.savefig('C:/Users/user/Desktop/SALFORD 2/benzos_plot.png', dpi=300, bbox_inches='tight')\n",
    "plt.show()\n",
    "\n",
    "\n"
   ]
  },
  {
   "cell_type": "markdown",
   "metadata": {},
   "source": [
    "# Preprocessing for Caff"
   ]
  },
  {
   "cell_type": "code",
   "execution_count": 169,
   "metadata": {},
   "outputs": [],
   "source": [
    "target_column = 16\n",
    "X = drug_data.iloc[:, :12]  \n",
    "y_caff = drug_data.iloc[:, target_column]\n",
    "\n",
    "\n",
    "# Train-test split\n",
    "from sklearn.model_selection import train_test_split\n",
    "X_train_caff, X_test_caff, y_train_caff, y_test_caff = train_test_split(X, y_caff, test_size=0.2, random_state=42)\n",
    "\n",
    "# Feature scaling\n",
    "from sklearn.preprocessing import StandardScaler\n",
    "scaler_caff = StandardScaler()\n",
    "X_train_caff = scaler_caff.fit_transform(X_train_caff)\n",
    "X_test_caff = scaler_caff.transform(X_test_caff)\n"
   ]
  },
  {
   "cell_type": "markdown",
   "metadata": {},
   "source": [
    "# Modelling for the target \"Caff\""
   ]
  },
  {
   "cell_type": "code",
   "execution_count": 170,
   "metadata": {},
   "outputs": [],
   "source": [
    "# Random Forest Classifier\n",
    "rf_model = RandomForestClassifier(random_state=42)\n",
    "rf_model.fit(X_train_caff, y_train_caff)\n",
    "rf_predictions = rf_model.predict(X_test_caff)\n",
    "\n",
    "# SVM Classifier\n",
    "svm_model = SVC(kernel='rbf', random_state=42, probability=True)\n",
    "svm_model.fit(X_train_caff, y_train_caff)\n",
    "svm_predictions = svm_model.predict(X_test_caff)\n",
    "\n",
    "# Accuracy Scores\n",
    "rf_accuracy = accuracy_score(y_test_caff, rf_predictions)\n",
    "svm_accuracy = accuracy_score(y_test_caff, svm_predictions)"
   ]
  },
  {
   "cell_type": "code",
   "execution_count": 171,
   "metadata": {},
   "outputs": [
    {
     "name": "stdout",
     "output_type": "stream",
     "text": [
      "Random Forest Classifier Accuracy: 0.7294\n",
      "SVM Classifier Accuracy: 0.7321\n"
     ]
    }
   ],
   "source": [
    "# Print Accuracy Scores\n",
    "print(f\"Random Forest Classifier Accuracy: {rf_accuracy:.4f}\")\n",
    "print(f\"SVM Classifier Accuracy: {svm_accuracy:.4f}\")\n"
   ]
  },
  {
   "cell_type": "code",
   "execution_count": 172,
   "metadata": {},
   "outputs": [
    {
     "name": "stdout",
     "output_type": "stream",
     "text": [
      "\n",
      "Random Forest Classification Report:\n",
      "              precision    recall  f1-score   support\n",
      "\n",
      "         CL0       0.00      0.00      0.00         5\n",
      "         CL1       0.00      0.00      0.00         3\n",
      "         CL2       0.00      0.00      0.00         7\n",
      "         CL3       0.00      0.00      0.00        13\n",
      "         CL4       0.00      0.00      0.00        21\n",
      "         CL5       0.00      0.00      0.00        52\n",
      "         CL6       0.73      1.00      0.84       276\n",
      "\n",
      "    accuracy                           0.73       377\n",
      "   macro avg       0.10      0.14      0.12       377\n",
      "weighted avg       0.54      0.73      0.62       377\n",
      "\n"
     ]
    }
   ],
   "source": [
    "# Classification Report for both models\n",
    "print(\"\\nRandom Forest Classification Report:\")\n",
    "print(classification_report(y_test_caff, rf_predictions, zero_division=0))"
   ]
  },
  {
   "cell_type": "code",
   "execution_count": 173,
   "metadata": {},
   "outputs": [
    {
     "name": "stdout",
     "output_type": "stream",
     "text": [
      "\n",
      "SVM Classification Report:\n",
      "              precision    recall  f1-score   support\n",
      "\n",
      "         CL0       0.00      0.00      0.00         5\n",
      "         CL1       0.00      0.00      0.00         3\n",
      "         CL2       0.00      0.00      0.00         7\n",
      "         CL3       0.00      0.00      0.00        13\n",
      "         CL4       0.00      0.00      0.00        21\n",
      "         CL5       0.00      0.00      0.00        52\n",
      "         CL6       0.73      1.00      0.85       276\n",
      "\n",
      "    accuracy                           0.73       377\n",
      "   macro avg       0.10      0.14      0.12       377\n",
      "weighted avg       0.54      0.73      0.62       377\n",
      "\n"
     ]
    }
   ],
   "source": [
    "print(\"\\nSVM Classification Report:\")\n",
    "print(classification_report(y_test_caff, svm_predictions, zero_division=0))"
   ]
  },
  {
   "cell_type": "code",
   "execution_count": 174,
   "metadata": {},
   "outputs": [
    {
     "data": {
      "image/png": "[encoded data removed]",
      "text/plain": [
       "<Figure size 1500x600 with 2 Axes>"
      ]
     },
     "metadata": {},
     "output_type": "display_data"
    }
   ],
   "source": [
    "# Confusion Matrices for both models\n",
    "fig, axes = plt.subplots(1, 2, figsize=(15, 6))\n",
    "\n",
    "# Random Forest Confusion Matrix\n",
    "cm_rf = confusion_matrix(y_test_caff, rf_predictions)\n",
    "sns.heatmap(cm_rf, annot=True, fmt=\"d\", cmap=\"Blues\", ax=axes[0], cbar=False)\n",
    "axes[0].set_title(\"Random Forest Confusion Matrix\")\n",
    "axes[0].set_xlabel('Predicted')\n",
    "axes[0].set_ylabel('True')\n",
    "\n",
    "\n",
    "# SVM Confusion Matrix\n",
    "cm_svm = confusion_matrix(y_test_caff, svm_predictions)\n",
    "sns.heatmap(cm_svm, annot=True, fmt=\"d\", cmap=\"Blues\", ax=axes[1], cbar=False)\n",
    "axes[1].set_title(\"SVM Confusion Matrix\")\n",
    "axes[1].set_xlabel('Predicted')\n",
    "axes[1].set_ylabel('True')\n",
    "\n",
    "plt.tight_layout()\n",
    "plt.savefig('C:/Users/user/Desktop/SALFORD 2/Caff_plot.png', dpi=300, bbox_inches='tight')\n",
    "plt.show()\n"
   ]
  },
  {
   "cell_type": "markdown",
   "metadata": {},
   "source": [
    "# Preprocessing for the target `cannabis`"
   ]
  },
  {
   "cell_type": "code",
   "execution_count": 175,
   "metadata": {},
   "outputs": [],
   "source": [
    "target_column = 17\n",
    "X = drug_data.iloc[:, :12]  \n",
    "y_cannabis = drug_data.iloc[:, target_column]  \n",
    "\n",
    "# Train-test split\n",
    "from sklearn.model_selection import train_test_split\n",
    "X_train_cannabis, X_test_cannabis, y_train_cannabis, y_test_cannabis = train_test_split(X, y_cannabis, test_size=0.2, random_state=42)\n",
    "\n",
    "# Feature scaling\n",
    "from sklearn.preprocessing import StandardScaler\n",
    "scaler_cannabis = StandardScaler()\n",
    "X_train_cannabis = scaler_cannabis.fit_transform(X_train_cannabis)\n",
    "X_test_cannabis = scaler_cannabis.transform(X_test_cannabis)\n"
   ]
  },
  {
   "cell_type": "markdown",
   "metadata": {},
   "source": [
    "# Model for the target `Cannabis`"
   ]
  },
  {
   "cell_type": "code",
   "execution_count": 176,
   "metadata": {},
   "outputs": [],
   "source": [
    "# Random Forest Classifier\n",
    "rf_model = RandomForestClassifier(random_state=42)\n",
    "rf_model.fit(X_train_cannabis, y_train_cannabis)\n",
    "rf_predictions = rf_model.predict(X_test_cannabis)\n",
    "\n",
    "# SVM Classifier\n",
    "svm_model = SVC(kernel='rbf', random_state=42, probability=True)\n",
    "svm_model.fit(X_train_cannabis, y_train_cannabis)\n",
    "svm_predictions = svm_model.predict(X_test_cannabis)\n",
    "\n",
    "# Accuracy Scores\n",
    "rf_accuracy = accuracy_score(y_test_cannabis, rf_predictions)\n",
    "svm_accuracy = accuracy_score(y_test_cannabis, svm_predictions)"
   ]
  },
  {
   "cell_type": "code",
   "execution_count": 177,
   "metadata": {},
   "outputs": [
    {
     "name": "stdout",
     "output_type": "stream",
     "text": [
      "Random Forest Classifier Accuracy: 0.4138\n",
      "SVM Classifier Accuracy: 0.4218\n"
     ]
    }
   ],
   "source": [
    "# Print Accuracy Scores\n",
    "print(f\"Random Forest Classifier Accuracy: {rf_accuracy:.4f}\")\n",
    "print(f\"SVM Classifier Accuracy: {svm_accuracy:.4f}\")\n"
   ]
  },
  {
   "cell_type": "code",
   "execution_count": 178,
   "metadata": {},
   "outputs": [
    {
     "name": "stdout",
     "output_type": "stream",
     "text": [
      "\n",
      "Random Forest Classification Report:\n",
      "              precision    recall  f1-score   support\n",
      "\n",
      "         CL0       0.54      0.71      0.61        86\n",
      "         CL1       0.33      0.39      0.36        28\n",
      "         CL2       0.17      0.11      0.13        55\n",
      "         CL3       0.33      0.09      0.14        57\n",
      "         CL4       0.00      0.00      0.00        27\n",
      "         CL5       0.10      0.03      0.05        32\n",
      "         CL6       0.43      0.78      0.55        92\n",
      "\n",
      "    accuracy                           0.41       377\n",
      "   macro avg       0.27      0.30      0.26       377\n",
      "weighted avg       0.34      0.41      0.35       377\n",
      "\n"
     ]
    }
   ],
   "source": [
    "# Classification Report for both models\n",
    "print(\"\\nRandom Forest Classification Report:\")\n",
    "print(classification_report(y_test_cannabis, rf_predictions, zero_division=0))\n"
   ]
  },
  {
   "cell_type": "code",
   "execution_count": 179,
   "metadata": {},
   "outputs": [
    {
     "name": "stdout",
     "output_type": "stream",
     "text": [
      "\n",
      "SVM Classification Report:\n",
      "              precision    recall  f1-score   support\n",
      "\n",
      "         CL0       0.52      0.73      0.61        86\n",
      "         CL1       0.31      0.32      0.32        28\n",
      "         CL2       0.16      0.11      0.13        55\n",
      "         CL3       0.00      0.00      0.00        57\n",
      "         CL4       0.00      0.00      0.00        27\n",
      "         CL5       0.00      0.00      0.00        32\n",
      "         CL6       0.43      0.88      0.58        92\n",
      "\n",
      "    accuracy                           0.42       377\n",
      "   macro avg       0.20      0.29      0.23       377\n",
      "weighted avg       0.27      0.42      0.32       377\n",
      "\n"
     ]
    }
   ],
   "source": [
    "print(\"\\nSVM Classification Report:\")\n",
    "print(classification_report(y_test_cannabis, svm_predictions, zero_division =0))\n"
   ]
  },
  {
   "cell_type": "code",
   "execution_count": 180,
   "metadata": {},
   "outputs": [
    {
     "data": {
      "image/png": "[encoded data removed]",
      "text/plain": [
       "<Figure size 1500x600 with 2 Axes>"
      ]
     },
     "metadata": {},
     "output_type": "display_data"
    }
   ],
   "source": [
    "# Confusion Matrices for both models\n",
    "fig, axes = plt.subplots(1, 2, figsize=(15, 6))\n",
    "\n",
    "# Random Forest Confusion Matrix\n",
    "cm_rf = confusion_matrix(y_test_cannabis, rf_predictions)\n",
    "sns.heatmap(cm_rf, annot=True, fmt=\"d\", cmap=\"Blues\", ax=axes[0], cbar=False)\n",
    "axes[0].set_title(\"Random Forest Confusion Matrix\")\n",
    "axes[0].set_xlabel('Predicted')\n",
    "axes[0].set_ylabel('True')\n",
    "\n",
    "# SVM Confusion Matrix\n",
    "cm_svm = confusion_matrix(y_test_cannabis, svm_predictions)\n",
    "sns.heatmap(cm_svm, annot=True, fmt=\"d\", cmap=\"Blues\", ax=axes[1], cbar=False)\n",
    "axes[1].set_title(\"SVM Confusion Matrix\")\n",
    "axes[1].set_xlabel('Predicted')\n",
    "axes[1].set_ylabel('True')\n",
    "\n",
    "plt.tight_layout()\n",
    "plt.savefig('C:/Users/user/Desktop/SALFORD 2/cannabis_plot.png', dpi=300, bbox_inches='tight')\n",
    "plt.show()\n"
   ]
  },
  {
   "cell_type": "markdown",
   "metadata": {},
   "source": [
    "# CHOC"
   ]
  },
  {
   "cell_type": "markdown",
   "metadata": {},
   "source": [
    "### Preprocessing for the target `choc`"
   ]
  },
  {
   "cell_type": "code",
   "execution_count": 181,
   "metadata": {},
   "outputs": [],
   "source": [
    "target_column = 18\n",
    "X = drug_data.iloc[:, :12]\n",
    "y_choc = drug_data.iloc[:, target_column]\n",
    "\n",
    "# Train-test split\n",
    "X_train_choc, X_test_choc, y_train_choc, y_test_choc = train_test_split(X, y_choc, test_size=0.2, random_state=42)\n",
    "\n",
    "# Feature scaling\n",
    "scaler_choc = StandardScaler()\n",
    "X_train_choc = scaler_choc.fit_transform(X_train_choc)\n",
    "X_test_choc = scaler_choc.transform(X_test_choc)"
   ]
  },
  {
   "cell_type": "markdown",
   "metadata": {},
   "source": [
    "# Model for the target `choc`"
   ]
  },
  {
   "cell_type": "code",
   "execution_count": 182,
   "metadata": {},
   "outputs": [],
   "source": [
    "# Random Forest Classifier\n",
    "rf_model = RandomForestClassifier(random_state=42)\n",
    "rf_model.fit(X_train_choc, y_train_choc)\n",
    "rf_predictions = rf_model.predict(X_test_choc)\n",
    "\n",
    "# SVM Classifier\n",
    "svm_model = SVC(kernel='rbf', random_state=42, probability=True)\n",
    "svm_model.fit(X_train_choc, y_train_choc)\n",
    "svm_predictions = svm_model.predict(X_test_choc)\n",
    "\n",
    "# Accuracy Scores\n",
    "rf_accuracy = accuracy_score(y_test_choc, rf_predictions)\n",
    "svm_accuracy = accuracy_score(y_test_choc, svm_predictions)"
   ]
  },
  {
   "cell_type": "code",
   "execution_count": 183,
   "metadata": {},
   "outputs": [
    {
     "name": "stdout",
     "output_type": "stream",
     "text": [
      "choc - Random Forest Classifier Accuracy: 0.4164\n",
      "choc - SVM Classifier Accuracy: 0.4085\n"
     ]
    }
   ],
   "source": [
    "# Print Accuracy Scores\n",
    "print(f\"choc - Random Forest Classifier Accuracy: {rf_accuracy:.4f}\")\n",
    "print(f\"choc - SVM Classifier Accuracy: {svm_accuracy:.4f}\")\n",
    "\n"
   ]
  },
  {
   "cell_type": "code",
   "execution_count": 184,
   "metadata": {},
   "outputs": [
    {
     "name": "stdout",
     "output_type": "stream",
     "text": [
      "              precision    recall  f1-score   support\n",
      "\n",
      "         CL0       0.00      0.00      0.00         4\n",
      "         CL2       0.00      0.00      0.00         3\n",
      "         CL3       0.00      0.00      0.00         9\n",
      "         CL4       0.24      0.08      0.12        52\n",
      "         CL5       0.43      0.34      0.38       156\n",
      "         CL6       0.42      0.65      0.51       153\n",
      "\n",
      "    accuracy                           0.42       377\n",
      "   macro avg       0.18      0.18      0.17       377\n",
      "weighted avg       0.38      0.42      0.38       377\n",
      "\n"
     ]
    }
   ],
   "source": [
    "# Classification Reports\n",
    "print(classification_report(y_test_choc, rf_predictions, zero_division=0))\n"
   ]
  },
  {
   "cell_type": "code",
   "execution_count": 185,
   "metadata": {},
   "outputs": [
    {
     "name": "stdout",
     "output_type": "stream",
     "text": [
      "              precision    recall  f1-score   support\n",
      "\n",
      "         CL0       0.00      0.00      0.00         4\n",
      "         CL2       0.00      0.00      0.00         3\n",
      "         CL3       0.00      0.00      0.00         9\n",
      "         CL4       0.00      0.00      0.00        52\n",
      "         CL5       0.37      0.24      0.29       156\n",
      "         CL6       0.42      0.76      0.55       153\n",
      "\n",
      "    accuracy                           0.41       377\n",
      "   macro avg       0.13      0.17      0.14       377\n",
      "weighted avg       0.32      0.41      0.34       377\n",
      "\n"
     ]
    }
   ],
   "source": [
    "print(classification_report(y_test_choc, svm_predictions, zero_division=0))\n"
   ]
  },
  {
   "cell_type": "code",
   "execution_count": 186,
   "metadata": {},
   "outputs": [
    {
     "data": {
      "image/png": "[encoded data removed]",
      "text/plain": [
       "<Figure size 1500x600 with 2 Axes>"
      ]
     },
     "metadata": {},
     "output_type": "display_data"
    }
   ],
   "source": [
    "# Confusion Matrices Visualization\n",
    "fig, axes = plt.subplots(1, 2, figsize=(15, 6))\n",
    "\n",
    "# Random Forest Confusion Matrix\n",
    "cm_rf = confusion_matrix(y_test_choc, rf_predictions)\n",
    "sns.heatmap(cm_rf, annot=True, fmt=\"d\", cmap=\"Blues\", ax=axes[0], cbar=False)\n",
    "axes[0].set_title(\"Random Forest Confusion Matrix - choc\")\n",
    "axes[0].set_xlabel('Predicted')\n",
    "axes[0].set_ylabel('True')\n",
    "\n",
    "# SVM Confusion Matrix\n",
    "cm_svm = confusion_matrix(y_test_choc, svm_predictions)\n",
    "sns.heatmap(cm_svm, annot=True, fmt=\"d\", cmap=\"Blues\", ax=axes[1], cbar=False)\n",
    "axes[1].set_title(\"SVM Confusion Matrix - choc\")\n",
    "axes[1].set_xlabel('Predicted')\n",
    "axes[1].set_ylabel('True')\n",
    "\n",
    "plt.tight_layout()\n",
    "plt.savefig('C:/Users/user/Desktop/SALFORD 2/choc_plot.png', dpi=300, bbox_inches='tight')\n",
    "\n",
    "plt.show()"
   ]
  },
  {
   "cell_type": "markdown",
   "metadata": {},
   "source": [
    "# COKE"
   ]
  },
  {
   "cell_type": "markdown",
   "metadata": {},
   "source": [
    "# Preprocessing for the target `COKE`"
   ]
  },
  {
   "cell_type": "code",
   "execution_count": 187,
   "metadata": {},
   "outputs": [],
   "source": [
    "target_column = 19\n",
    "X = drug_data.iloc[:, :12]\n",
    "y_coke = drug_data.iloc[:, target_column]\n",
    "\n",
    "X_train_coke, X_test_coke, y_train_coke, y_test_coke = train_test_split(X, y_coke, test_size=0.2, random_state=42)\n",
    "\n",
    "scaler_coke = StandardScaler()\n",
    "X_train_coke = scaler_coke.fit_transform(X_train_coke)\n",
    "X_test_coke = scaler_coke.transform(X_test_coke)\n"
   ]
  },
  {
   "cell_type": "markdown",
   "metadata": {},
   "source": [
    "# Model for the target `COKE`"
   ]
  },
  {
   "cell_type": "code",
   "execution_count": 188,
   "metadata": {},
   "outputs": [],
   "source": [
    "rf_model = RandomForestClassifier(random_state=42)\n",
    "rf_model.fit(X_train_coke, y_train_coke)\n",
    "rf_predictions = rf_model.predict(X_test_coke)\n",
    "\n",
    "svm_model = SVC(kernel='rbf', random_state=42, probability=True)\n",
    "svm_model.fit(X_train_coke, y_train_coke)\n",
    "svm_predictions = svm_model.predict(X_test_coke)\n"
   ]
  },
  {
   "cell_type": "code",
   "execution_count": 189,
   "metadata": {},
   "outputs": [],
   "source": [
    "rf_accuracy = accuracy_score(y_test_coke, rf_predictions)\n",
    "svm_accuracy = accuracy_score(y_test_coke, svm_predictions)\n"
   ]
  },
  {
   "cell_type": "code",
   "execution_count": 190,
   "metadata": {},
   "outputs": [
    {
     "name": "stdout",
     "output_type": "stream",
     "text": [
      "coke - Random Forest Classifier Accuracy: 0.5809\n",
      "coke - SVM Classifier Accuracy: 0.6021\n"
     ]
    }
   ],
   "source": [
    "print(f\"coke - Random Forest Classifier Accuracy: {rf_accuracy:.4f}\")\n",
    "print(f\"coke - SVM Classifier Accuracy: {svm_accuracy:.4f}\")\n"
   ]
  },
  {
   "cell_type": "code",
   "execution_count": 191,
   "metadata": {},
   "outputs": [
    {
     "name": "stdout",
     "output_type": "stream",
     "text": [
      "\n",
      "Random Forest Classification Report for coke:\n",
      "              precision    recall  f1-score   support\n",
      "\n",
      "         CL0       0.66      0.93      0.77       224\n",
      "         CL1       0.50      0.13      0.21        30\n",
      "         CL2       0.11      0.05      0.06        44\n",
      "         CL3       0.16      0.12      0.14        43\n",
      "         CL4       0.00      0.00      0.00        25\n",
      "         CL5       0.00      0.00      0.00         8\n",
      "         CL6       0.00      0.00      0.00         3\n",
      "\n",
      "    accuracy                           0.58       377\n",
      "   macro avg       0.20      0.17      0.17       377\n",
      "weighted avg       0.46      0.58      0.50       377\n",
      "\n"
     ]
    }
   ],
   "source": [
    "print(\"\\nRandom Forest Classification Report for coke:\")\n",
    "print(classification_report(y_test_coke, rf_predictions, zero_division=0))"
   ]
  },
  {
   "cell_type": "code",
   "execution_count": 192,
   "metadata": {},
   "outputs": [
    {
     "name": "stdout",
     "output_type": "stream",
     "text": [
      "\n",
      "SVM Classification Report for coke:\n",
      "              precision    recall  f1-score   support\n",
      "\n",
      "         CL0       0.64      0.98      0.78       224\n",
      "         CL1       0.62      0.17      0.26        30\n",
      "         CL2       0.08      0.02      0.04        44\n",
      "         CL3       0.07      0.02      0.04        43\n",
      "         CL4       0.00      0.00      0.00        25\n",
      "         CL5       0.00      0.00      0.00         8\n",
      "         CL6       0.00      0.00      0.00         3\n",
      "\n",
      "    accuracy                           0.60       377\n",
      "   macro avg       0.20      0.17      0.16       377\n",
      "weighted avg       0.45      0.60      0.49       377\n",
      "\n"
     ]
    }
   ],
   "source": [
    "print(\"\\nSVM Classification Report for coke:\")\n",
    "print(classification_report(y_test_coke, svm_predictions, zero_division=0))\n"
   ]
  },
  {
   "cell_type": "code",
   "execution_count": 193,
   "metadata": {},
   "outputs": [
    {
     "data": {
      "image/png": "[encoded data removed]",
      "text/plain": [
       "<Figure size 1500x600 with 2 Axes>"
      ]
     },
     "metadata": {},
     "output_type": "display_data"
    }
   ],
   "source": [
    "# Visualization of the confusion matrix\n",
    "fig, axes = plt.subplots(1, 2, figsize=(15, 6))\n",
    "\n",
    "cm_rf = confusion_matrix(y_test_coke, rf_predictions)\n",
    "sns.heatmap(cm_rf, annot=True, fmt=\"d\", cmap=\"Greens\", ax=axes[0], cbar=False)\n",
    "axes[0].set_title(\"Random Forest Confusion Matrix - coke\")\n",
    "axes[0].set_xlabel('Predicted')\n",
    "axes[0].set_ylabel('True')\n",
    "\n",
    "\n",
    "cm_svm = confusion_matrix(y_test_coke, svm_predictions)\n",
    "sns.heatmap(cm_svm, annot=True, fmt=\"d\", cmap=\"Greens\", ax=axes[1], cbar=False)\n",
    "axes[1].set_title(\"SVM Confusion Matrix - coke\")\n",
    "axes[1].set_xlabel('Predicted')\n",
    "axes[1].set_ylabel('True')\n",
    "\n",
    "plt.tight_layout()\n",
    "plt.savefig('C:/Users/user/Desktop/SALFORD 2/coke_plot.png', dpi=300, bbox_inches='tight')\n",
    "\n",
    "plt.show()\n"
   ]
  },
  {
   "cell_type": "markdown",
   "metadata": {},
   "source": [
    "# CRACK"
   ]
  },
  {
   "cell_type": "markdown",
   "metadata": {},
   "source": [
    "# Preprocessing for the target `CRACK`"
   ]
  },
  {
   "cell_type": "code",
   "execution_count": 194,
   "metadata": {},
   "outputs": [],
   "source": [
    "target_column = 20\n",
    "X = drug_data.iloc[:, :12]\n",
    "y_crack = drug_data.iloc[:, target_column]\n",
    "\n",
    "X_train_crack, X_test_crack, y_train_crack, y_test_crack = train_test_split(X, y_crack, test_size=0.2, random_state=42)\n",
    "\n",
    "scaler_crack = StandardScaler()\n",
    "X_train_crack = scaler_crack.fit_transform(X_train_crack)\n",
    "X_test_crack = scaler_crack.transform(X_test_crack)"
   ]
  },
  {
   "cell_type": "markdown",
   "metadata": {},
   "source": [
    "# Model for the target `CRACK`"
   ]
  },
  {
   "cell_type": "code",
   "execution_count": 195,
   "metadata": {},
   "outputs": [],
   "source": [
    "rf_model = RandomForestClassifier(random_state=42)\n",
    "rf_model.fit(X_train_crack, y_train_crack)\n",
    "rf_predictions = rf_model.predict(X_test_crack)\n",
    "\n",
    "svm_model = SVC(kernel='rbf', random_state=42, probability=True)\n",
    "svm_model.fit(X_train_crack, y_train_crack)\n",
    "svm_predictions = svm_model.predict(X_test_crack)\n",
    "\n",
    "rf_accuracy = accuracy_score(y_test_crack, rf_predictions)\n",
    "svm_accuracy = accuracy_score(y_test_crack, svm_predictions)\n"
   ]
  },
  {
   "cell_type": "code",
   "execution_count": 196,
   "metadata": {},
   "outputs": [
    {
     "name": "stdout",
     "output_type": "stream",
     "text": [
      "crack - Random Forest Classifier Accuracy: 0.8886\n",
      "crack - SVM Classifier Accuracy: 0.8859\n"
     ]
    }
   ],
   "source": [
    "print(f\"crack - Random Forest Classifier Accuracy: {rf_accuracy:.4f}\")\n",
    "print(f\"crack - SVM Classifier Accuracy: {svm_accuracy:.4f}\")\n"
   ]
  },
  {
   "cell_type": "code",
   "execution_count": 197,
   "metadata": {},
   "outputs": [
    {
     "name": "stdout",
     "output_type": "stream",
     "text": [
      "              precision    recall  f1-score   support\n",
      "\n",
      "         CL0       0.89      1.00      0.94       334\n",
      "         CL1       0.00      0.00      0.00         8\n",
      "         CL2       1.00      0.05      0.09        22\n",
      "         CL3       0.00      0.00      0.00         9\n",
      "         CL4       0.00      0.00      0.00         2\n",
      "         CL5       0.00      0.00      0.00         1\n",
      "         CL6       0.00      0.00      0.00         1\n",
      "\n",
      "    accuracy                           0.89       377\n",
      "   macro avg       0.27      0.15      0.15       377\n",
      "weighted avg       0.85      0.89      0.84       377\n",
      "\n"
     ]
    }
   ],
   "source": [
    "# Forest Classification Report for crack\n",
    "print(classification_report(y_test_crack, rf_predictions, zero_division=0))"
   ]
  },
  {
   "cell_type": "code",
   "execution_count": 198,
   "metadata": {},
   "outputs": [
    {
     "name": "stdout",
     "output_type": "stream",
     "text": [
      "              precision    recall  f1-score   support\n",
      "\n",
      "         CL0       0.89      1.00      0.94       334\n",
      "         CL1       0.00      0.00      0.00         8\n",
      "         CL2       0.00      0.00      0.00        22\n",
      "         CL3       0.00      0.00      0.00         9\n",
      "         CL4       0.00      0.00      0.00         2\n",
      "         CL5       0.00      0.00      0.00         1\n",
      "         CL6       0.00      0.00      0.00         1\n",
      "\n",
      "    accuracy                           0.89       377\n",
      "   macro avg       0.13      0.14      0.13       377\n",
      "weighted avg       0.78      0.89      0.83       377\n",
      "\n"
     ]
    }
   ],
   "source": [
    "# SVM Classification Report for crack\n",
    "print(classification_report(y_test_crack, svm_predictions, zero_division=0))\n"
   ]
  },
  {
   "cell_type": "code",
   "execution_count": 199,
   "metadata": {},
   "outputs": [
    {
     "data": {
      "image/png": "[encoded data removed]",
      "text/plain": [
       "<Figure size 1500x600 with 2 Axes>"
      ]
     },
     "metadata": {},
     "output_type": "display_data"
    }
   ],
   "source": [
    "fig, axes = plt.subplots(1, 2, figsize=(15, 6))\n",
    "\n",
    "cm_rf = confusion_matrix(y_test_crack, rf_predictions)\n",
    "sns.heatmap(cm_rf, annot=True, fmt=\"d\", cmap=\"Purples\", ax=axes[0], cbar=False)\n",
    "axes[0].set_title(\"Random Forest Confusion Matrix - crack\")\n",
    "axes[0].set_xlabel('Predicted')\n",
    "axes[0].set_ylabel('True')\n",
    "\n",
    "cm_svm = confusion_matrix(y_test_crack, svm_predictions)\n",
    "sns.heatmap(cm_svm, annot=True, fmt=\"d\", cmap=\"Purples\", ax=axes[1], cbar=False)\n",
    "axes[1].set_title(\"SVM Confusion Matrix - crack\")\n",
    "axes[1].set_xlabel('Predicted')\n",
    "axes[1].set_ylabel('True')\n",
    "\n",
    "plt.tight_layout()\n",
    "plt.savefig('C:/Users/user/Desktop/SALFORD 2/crack_plot.png', dpi=300, bbox_inches='tight')\n",
    "\n",
    "plt.show()"
   ]
  },
  {
   "cell_type": "markdown",
   "metadata": {},
   "source": [
    "# Preprocessing for the target `ecstasy`"
   ]
  },
  {
   "cell_type": "code",
   "execution_count": 200,
   "metadata": {},
   "outputs": [],
   "source": [
    "target_column = 21\n",
    "X = drug_data.iloc[:, :12]\n",
    "y_ecstasy = drug_data.iloc[:, target_column]\n",
    "\n",
    "X_train_ecstasy, X_test_ecstasy, y_train_ecstasy, y_test_ecstasy = train_test_split(X, y_ecstasy, test_size=0.2, random_state=42)\n",
    "\n",
    "scaler_ecstasy = StandardScaler()\n",
    "X_train_ecstasy = scaler_ecstasy.fit_transform(X_train_ecstasy)\n",
    "X_test_ecstasy = scaler_ecstasy.transform(X_test_ecstasy)\n"
   ]
  },
  {
   "cell_type": "markdown",
   "metadata": {},
   "source": [
    "# Model for the target `ecstasy`"
   ]
  },
  {
   "cell_type": "code",
   "execution_count": 201,
   "metadata": {},
   "outputs": [],
   "source": [
    "rf_model = RandomForestClassifier(random_state=42)\n",
    "rf_model.fit(X_train_ecstasy, y_train_ecstasy)\n",
    "rf_predictions = rf_model.predict(X_test_ecstasy)\n",
    "\n",
    "svm_model = SVC(kernel='rbf', random_state=42, probability=True)\n",
    "svm_model.fit(X_train_ecstasy, y_train_ecstasy)\n",
    "svm_predictions = svm_model.predict(X_test_ecstasy)\n",
    "\n",
    "rf_accuracy = accuracy_score(y_test_ecstasy, rf_predictions)\n",
    "svm_accuracy = accuracy_score(y_test_ecstasy, svm_predictions)\n"
   ]
  },
  {
   "cell_type": "code",
   "execution_count": 202,
   "metadata": {},
   "outputs": [
    {
     "name": "stdout",
     "output_type": "stream",
     "text": [
      "ecstasy - Random Forest Classifier Accuracy: 0.5491\n",
      "ecstasy - SVM Classifier Accuracy: 0.5650\n"
     ]
    }
   ],
   "source": [
    "print(f\"ecstasy - Random Forest Classifier Accuracy: {rf_accuracy:.4f}\")\n",
    "print(f\"ecstasy - SVM Classifier Accuracy: {svm_accuracy:.4f}\")"
   ]
  },
  {
   "cell_type": "code",
   "execution_count": 203,
   "metadata": {},
   "outputs": [
    {
     "name": "stdout",
     "output_type": "stream",
     "text": [
      "              precision    recall  f1-score   support\n",
      "\n",
      "         CL0       0.63      0.88      0.74       208\n",
      "         CL1       0.33      0.05      0.08        22\n",
      "         CL2       0.16      0.07      0.10        43\n",
      "         CL3       0.37      0.31      0.33        62\n",
      "         CL4       0.00      0.00      0.00        30\n",
      "         CL5       0.00      0.00      0.00         9\n",
      "         CL6       0.00      0.00      0.00         3\n",
      "\n",
      "    accuracy                           0.55       377\n",
      "   macro avg       0.21      0.19      0.18       377\n",
      "weighted avg       0.45      0.55      0.48       377\n",
      "\n"
     ]
    }
   ],
   "source": [
    "# Random Forest Classification Report for ecstasy\n",
    "print(classification_report(y_test_ecstasy, rf_predictions, zero_division=0))"
   ]
  },
  {
   "cell_type": "code",
   "execution_count": 204,
   "metadata": {},
   "outputs": [
    {
     "name": "stdout",
     "output_type": "stream",
     "text": [
      "              precision    recall  f1-score   support\n",
      "\n",
      "         CL0       0.59      0.92      0.72       208\n",
      "         CL1       0.00      0.00      0.00        22\n",
      "         CL2       0.00      0.00      0.00        43\n",
      "         CL3       0.40      0.35      0.38        62\n",
      "         CL4       0.00      0.00      0.00        30\n",
      "         CL5       0.00      0.00      0.00         9\n",
      "         CL6       0.00      0.00      0.00         3\n",
      "\n",
      "    accuracy                           0.56       377\n",
      "   macro avg       0.14      0.18      0.16       377\n",
      "weighted avg       0.39      0.56      0.46       377\n",
      "\n"
     ]
    }
   ],
   "source": [
    "# SVM Classification Report for ecstasy\n",
    "print(classification_report(y_test_ecstasy, svm_predictions, zero_division=0))\n"
   ]
  },
  {
   "cell_type": "code",
   "execution_count": 205,
   "metadata": {},
   "outputs": [
    {
     "data": {
      "image/png": "[encoded data removed]",
      "text/plain": [
       "<Figure size 1500x600 with 2 Axes>"
      ]
     },
     "metadata": {},
     "output_type": "display_data"
    }
   ],
   "source": [
    "# Visualization of the confusion matrix\n",
    "\n",
    "fig, axes = plt.subplots(1, 2, figsize=(15, 6))\n",
    "\n",
    "cm_rf = confusion_matrix(y_test_ecstasy, rf_predictions)\n",
    "sns.heatmap(cm_rf, annot=True, fmt=\"d\", cmap=\"Oranges\", ax=axes[0], cbar=False)\n",
    "axes[0].set_title(\"Random Forest Confusion Matrix - ecstasy\")\n",
    "axes[0].set_xlabel('Predicted')\n",
    "axes[0].set_ylabel('True')\n",
    "\n",
    "cm_svm = confusion_matrix(y_test_ecstasy, svm_predictions)\n",
    "sns.heatmap(cm_svm, annot=True, fmt=\"d\", cmap=\"Oranges\", ax=axes[1], cbar=False)\n",
    "axes[1].set_title(\"SVM Confusion Matrix - ecstasy\")\n",
    "axes[1].set_xlabel('Predicted')\n",
    "axes[1].set_ylabel('True')\n",
    "\n",
    "plt.tight_layout()\n",
    "plt.savefig('C:/Users/user/Desktop/SALFORD 2/ecstasy_plot.png', dpi=300, bbox_inches='tight')\n",
    "\n",
    "plt.show()\n"
   ]
  },
  {
   "cell_type": "markdown",
   "metadata": {},
   "source": [
    "# Preprocessing for the target `heroin`"
   ]
  },
  {
   "cell_type": "code",
   "execution_count": 206,
   "metadata": {},
   "outputs": [],
   "source": [
    "target_column = 22\n",
    "X = drug_data.iloc[:, :12]\n",
    "y_heroin = drug_data.iloc[:, target_column]\n",
    "\n",
    "X_train_heroin, X_test_heroin, y_train_heroin, y_test_heroin = train_test_split(X, y_heroin, test_size=0.2, random_state=42)\n",
    "\n",
    "scaler_heroin = StandardScaler()\n",
    "X_train_heroin = scaler_heroin.fit_transform(X_train_heroin)\n",
    "X_test_heroin = scaler_heroin.transform(X_test_heroin)\n"
   ]
  },
  {
   "cell_type": "markdown",
   "metadata": {},
   "source": [
    "# Model for the target `heroin`"
   ]
  },
  {
   "cell_type": "code",
   "execution_count": 207,
   "metadata": {},
   "outputs": [],
   "source": [
    "rf_model = RandomForestClassifier(random_state=42)\n",
    "rf_model.fit(X_train_heroin, y_train_heroin)\n",
    "rf_predictions = rf_model.predict(X_test_heroin)\n",
    "\n",
    "svm_model = SVC(kernel='rbf', random_state=42, probability=True)\n",
    "svm_model.fit(X_train_heroin, y_train_heroin)\n",
    "svm_predictions = svm_model.predict(X_test_heroin)\n",
    "\n",
    "rf_accuracy = accuracy_score(y_test_heroin, rf_predictions)\n",
    "svm_accuracy = accuracy_score(y_test_heroin, svm_predictions)\n"
   ]
  },
  {
   "cell_type": "code",
   "execution_count": 208,
   "metadata": {},
   "outputs": [
    {
     "name": "stdout",
     "output_type": "stream",
     "text": [
      "heroin - Random Forest Classifier Accuracy: 0.8594\n",
      "heroin - SVM Classifier Accuracy: 0.8594\n"
     ]
    }
   ],
   "source": [
    "print(f\"heroin - Random Forest Classifier Accuracy: {rf_accuracy:.4f}\")\n",
    "print(f\"heroin - SVM Classifier Accuracy: {svm_accuracy:.4f}\")"
   ]
  },
  {
   "cell_type": "code",
   "execution_count": 209,
   "metadata": {},
   "outputs": [
    {
     "name": "stdout",
     "output_type": "stream",
     "text": [
      "              precision    recall  f1-score   support\n",
      "\n",
      "         CL0       0.86      1.00      0.92       324\n",
      "         CL1       0.00      0.00      0.00        11\n",
      "         CL2       0.00      0.00      0.00        18\n",
      "         CL3       0.50      0.08      0.14        12\n",
      "         CL4       0.00      0.00      0.00         6\n",
      "         CL5       0.00      0.00      0.00         4\n",
      "         CL6       0.00      0.00      0.00         2\n",
      "\n",
      "    accuracy                           0.86       377\n",
      "   macro avg       0.19      0.15      0.15       377\n",
      "weighted avg       0.76      0.86      0.80       377\n",
      "\n"
     ]
    }
   ],
   "source": [
    "# Random Forest Classification Report for heroin\n",
    "print(classification_report(y_test_heroin, rf_predictions, zero_division=0))"
   ]
  },
  {
   "cell_type": "code",
   "execution_count": 210,
   "metadata": {},
   "outputs": [
    {
     "name": "stdout",
     "output_type": "stream",
     "text": [
      "              precision    recall  f1-score   support\n",
      "\n",
      "         CL0       0.86      1.00      0.92       324\n",
      "         CL1       0.00      0.00      0.00        11\n",
      "         CL2       0.00      0.00      0.00        18\n",
      "         CL3       0.00      0.00      0.00        12\n",
      "         CL4       0.00      0.00      0.00         6\n",
      "         CL5       0.00      0.00      0.00         4\n",
      "         CL6       0.00      0.00      0.00         2\n",
      "\n",
      "    accuracy                           0.86       377\n",
      "   macro avg       0.12      0.14      0.13       377\n",
      "weighted avg       0.74      0.86      0.79       377\n",
      "\n"
     ]
    }
   ],
   "source": [
    "# SVM Classification Report for heroin\n",
    "print(classification_report(y_test_heroin, svm_predictions, zero_division=0))"
   ]
  },
  {
   "cell_type": "code",
   "execution_count": 211,
   "metadata": {},
   "outputs": [
    {
     "data": {
      "image/png": "[encoded data removed]",
      "text/plain": [
       "<Figure size 1500x600 with 2 Axes>"
      ]
     },
     "metadata": {},
     "output_type": "display_data"
    }
   ],
   "source": [
    "fig, axes = plt.subplots(1, 2, figsize=(15, 6))\n",
    "\n",
    "cm_rf = confusion_matrix(y_test_heroin, rf_predictions)\n",
    "sns.heatmap(cm_rf, annot=True, fmt=\"d\", cmap=\"Reds\", ax=axes[0], cbar=False)\n",
    "axes[0].set_title(\"Random Forest Confusion Matrix - heroin\")\n",
    "axes[0].set_xlabel('Predicted')\n",
    "axes[0].set_ylabel('True')\n",
    "\n",
    "cm_svm = confusion_matrix(y_test_heroin, svm_predictions)\n",
    "sns.heatmap(cm_svm, annot=True, fmt=\"d\", cmap=\"Reds\", ax=axes[1], cbar=False)\n",
    "axes[1].set_title(\"SVM Confusion Matrix - heroin\")\n",
    "axes[1].set_xlabel('Predicted')\n",
    "axes[1].set_ylabel('True')\n",
    "\n",
    "plt.tight_layout()\n",
    "plt.savefig('C:/Users/user/Desktop/SALFORD 2/heroin_plot.png', dpi=300, bbox_inches='tight')\n",
    "\n",
    "plt.show()\n"
   ]
  },
  {
   "cell_type": "markdown",
   "metadata": {},
   "source": [
    "# Preprocessing for the target `ketamine`"
   ]
  },
  {
   "cell_type": "code",
   "execution_count": 212,
   "metadata": {},
   "outputs": [],
   "source": [
    "target_column = 23\n",
    "X = drug_data.iloc[:, :12]\n",
    "y_ketamine = drug_data.iloc[:, target_column]\n",
    "\n",
    "X_train_ketamine, X_test_ketamine, y_train_ketamine, y_test_ketamine = train_test_split(X, y_ketamine, test_size=0.2, random_state=42)\n",
    "\n",
    "scaler_ketamine = StandardScaler()\n",
    "X_train_ketamine = scaler_ketamine.fit_transform(X_train_ketamine)\n",
    "X_test_ketamine = scaler_ketamine.transform(X_test_ketamine)\n"
   ]
  },
  {
   "cell_type": "markdown",
   "metadata": {},
   "source": [
    "# Model for the target `ketamine`"
   ]
  },
  {
   "cell_type": "code",
   "execution_count": 213,
   "metadata": {},
   "outputs": [],
   "source": [
    "rf_model = RandomForestClassifier(random_state=42)\n",
    "rf_model.fit(X_train_ketamine, y_train_ketamine)\n",
    "rf_predictions = rf_model.predict(X_test_ketamine)\n",
    "\n",
    "svm_model = SVC(kernel='rbf', random_state=42, probability=True)\n",
    "svm_model.fit(X_train_ketamine, y_train_ketamine)\n",
    "svm_predictions = svm_model.predict(X_test_ketamine)\n",
    "\n",
    "rf_accuracy = accuracy_score(y_test_ketamine, rf_predictions)\n",
    "svm_accuracy = accuracy_score(y_test_ketamine, svm_predictions)\n"
   ]
  },
  {
   "cell_type": "code",
   "execution_count": 214,
   "metadata": {},
   "outputs": [
    {
     "name": "stdout",
     "output_type": "stream",
     "text": [
      "ketamine - Random Forest Classifier Accuracy: 0.8170\n",
      "ketamine - SVM Classifier Accuracy: 0.8170\n"
     ]
    }
   ],
   "source": [
    "print(f\"ketamine - Random Forest Classifier Accuracy: {rf_accuracy:.4f}\")\n",
    "print(f\"ketamine - SVM Classifier Accuracy: {svm_accuracy:.4f}\")"
   ]
  },
  {
   "cell_type": "code",
   "execution_count": 215,
   "metadata": {},
   "outputs": [
    {
     "name": "stdout",
     "output_type": "stream",
     "text": [
      "              precision    recall  f1-score   support\n",
      "\n",
      "         CL0       0.82      1.00      0.90       308\n",
      "         CL1       0.00      0.00      0.00         4\n",
      "         CL2       0.00      0.00      0.00        22\n",
      "         CL3       0.00      0.00      0.00        23\n",
      "         CL4       0.00      0.00      0.00         8\n",
      "         CL5       0.00      0.00      0.00        11\n",
      "         CL6       0.00      0.00      0.00         1\n",
      "\n",
      "    accuracy                           0.82       377\n",
      "   macro avg       0.12      0.14      0.13       377\n",
      "weighted avg       0.67      0.82      0.74       377\n",
      "\n"
     ]
    }
   ],
   "source": [
    "# Random Forest Classification Report for ketamine:\")\n",
    "print(classification_report(y_test_ketamine, rf_predictions, zero_division=0))"
   ]
  },
  {
   "cell_type": "code",
   "execution_count": 216,
   "metadata": {},
   "outputs": [
    {
     "name": "stdout",
     "output_type": "stream",
     "text": [
      "              precision    recall  f1-score   support\n",
      "\n",
      "         CL0       0.82      1.00      0.90       308\n",
      "         CL1       0.00      0.00      0.00         4\n",
      "         CL2       0.00      0.00      0.00        22\n",
      "         CL3       0.00      0.00      0.00        23\n",
      "         CL4       0.00      0.00      0.00         8\n",
      "         CL5       0.00      0.00      0.00        11\n",
      "         CL6       0.00      0.00      0.00         1\n",
      "\n",
      "    accuracy                           0.82       377\n",
      "   macro avg       0.12      0.14      0.13       377\n",
      "weighted avg       0.67      0.82      0.73       377\n",
      "\n"
     ]
    }
   ],
   "source": [
    "# SVM Classification Report for ketamine\n",
    "print(classification_report(y_test_ketamine, svm_predictions, zero_division=0))"
   ]
  },
  {
   "cell_type": "code",
   "execution_count": 217,
   "metadata": {},
   "outputs": [
    {
     "data": {
      "image/png": "[encoded data removed]",
      "text/plain": [
       "<Figure size 1500x600 with 2 Axes>"
      ]
     },
     "metadata": {},
     "output_type": "display_data"
    }
   ],
   "source": [
    "fig, axes = plt.subplots(1, 2, figsize=(15, 6))\n",
    "\n",
    "cm_rf = confusion_matrix(y_test_ketamine, rf_predictions)\n",
    "sns.heatmap(cm_rf, annot=True, fmt=\"d\", cmap=\"YlGn\", ax=axes[0], cbar=False)\n",
    "axes[0].set_title(\"Random Forest Confusion Matrix - ketamine\")\n",
    "axes[0].set_xlabel('Predicted')\n",
    "axes[0].set_ylabel('True')\n",
    "\n",
    "cm_svm = confusion_matrix(y_test_ketamine, svm_predictions)\n",
    "sns.heatmap(cm_svm, annot=True, fmt=\"d\", cmap=\"YlGn\", ax=axes[1], cbar=False)\n",
    "axes[1].set_title(\"SVM Confusion Matrix - ketamine\")\n",
    "axes[1].set_xlabel('Predicted')\n",
    "axes[1].set_ylabel('True')\n",
    "\n",
    "plt.tight_layout()\n",
    "plt.savefig('C:/Users/user/Desktop/SALFORD 2/ketamine_plot.png', dpi=300, bbox_inches='tight')\n",
    "\n",
    "plt.show()\n"
   ]
  },
  {
   "cell_type": "markdown",
   "metadata": {},
   "source": [
    "# Preprocessing for the target `legalh`"
   ]
  },
  {
   "cell_type": "code",
   "execution_count": 218,
   "metadata": {},
   "outputs": [],
   "source": [
    "target_column = 24\n",
    "X = drug_data.iloc[:, :12]\n",
    "y_legalh = drug_data.iloc[:, target_column]\n",
    "\n",
    "X_train_legalh, X_test_legalh, y_train_legalh, y_test_legalh = train_test_split(X, y_legalh, test_size=0.2, random_state=42)\n",
    "\n",
    "scaler_legalh = StandardScaler()\n",
    "X_train_legalh = scaler_legalh.fit_transform(X_train_legalh)\n",
    "X_test_legalh = scaler_legalh.transform(X_test_legalh)"
   ]
  },
  {
   "cell_type": "markdown",
   "metadata": {},
   "source": [
    "# Model for the target `legalh`"
   ]
  },
  {
   "cell_type": "code",
   "execution_count": 219,
   "metadata": {},
   "outputs": [],
   "source": [
    "rf_model = RandomForestClassifier(random_state=42)\n",
    "rf_model.fit(X_train_legalh, y_train_legalh)\n",
    "rf_predictions = rf_model.predict(X_test_legalh)\n",
    "\n",
    "svm_model = SVC(kernel='rbf', random_state=42, probability=True)\n",
    "svm_model.fit(X_train_legalh, y_train_legalh)\n",
    "svm_predictions = svm_model.predict(X_test_legalh)\n",
    "\n",
    "rf_accuracy = accuracy_score(y_test_legalh, rf_predictions)\n",
    "svm_accuracy = accuracy_score(y_test_legalh, svm_predictions)"
   ]
  },
  {
   "cell_type": "code",
   "execution_count": 222,
   "metadata": {},
   "outputs": [
    {
     "name": "stdout",
     "output_type": "stream",
     "text": [
      "legalh - Random Forest Classifier Accuracy: 0.6048\n",
      "legalh - SVM Classifier Accuracy: 0.6127\n"
     ]
    }
   ],
   "source": [
    "print(f\"legalh - Random Forest Classifier Accuracy: {rf_accuracy:.4f}\")\n",
    "print(f\"legalh - SVM Classifier Accuracy: {svm_accuracy:.4f}\")"
   ]
  },
  {
   "cell_type": "code",
   "execution_count": 223,
   "metadata": {},
   "outputs": [
    {
     "name": "stdout",
     "output_type": "stream",
     "text": [
      "\n",
      "Random Forest Classification Report for legalh:\n",
      "              precision    recall  f1-score   support\n",
      "\n",
      "         CL0       0.72      0.93      0.81       216\n",
      "         CL1       0.00      0.00      0.00         3\n",
      "         CL2       0.09      0.02      0.04        42\n",
      "         CL3       0.32      0.37      0.35        65\n",
      "         CL4       0.33      0.08      0.13        25\n",
      "         CL5       0.00      0.00      0.00        15\n",
      "         CL6       0.00      0.00      0.00        11\n",
      "\n",
      "    accuracy                           0.60       377\n",
      "   macro avg       0.21      0.20      0.19       377\n",
      "weighted avg       0.50      0.60      0.54       377\n",
      "\n"
     ]
    }
   ],
   "source": [
    "print(\"\\nRandom Forest Classification Report for legalh:\")\n",
    "print(classification_report(y_test_legalh, rf_predictions, zero_division=0))"
   ]
  },
  {
   "cell_type": "code",
   "execution_count": 224,
   "metadata": {},
   "outputs": [
    {
     "name": "stdout",
     "output_type": "stream",
     "text": [
      "\n",
      "SVM Classification Report for legalh:\n",
      "              precision    recall  f1-score   support\n",
      "\n",
      "         CL0       0.70      0.93      0.80       216\n",
      "         CL1       0.00      0.00      0.00         3\n",
      "         CL2       0.00      0.00      0.00        42\n",
      "         CL3       0.33      0.48      0.39        65\n",
      "         CL4       0.00      0.00      0.00        25\n",
      "         CL5       0.00      0.00      0.00        15\n",
      "         CL6       0.00      0.00      0.00        11\n",
      "\n",
      "    accuracy                           0.61       377\n",
      "   macro avg       0.15      0.20      0.17       377\n",
      "weighted avg       0.46      0.61      0.53       377\n",
      "\n"
     ]
    },
    {
     "name": "stderr",
     "output_type": "stream",
     "text": [
      "C:\\Users\\user\\anaconda3\\Lib\\site-packages\\sklearn\\metrics\\_classification.py:1531: UndefinedMetricWarning: Precision is ill-defined and being set to 0.0 in labels with no predicted samples. Use `zero_division` parameter to control this behavior.\n",
      "  _warn_prf(average, modifier, f\"{metric.capitalize()} is\", len(result))\n",
      "C:\\Users\\user\\anaconda3\\Lib\\site-packages\\sklearn\\metrics\\_classification.py:1531: UndefinedMetricWarning: Precision is ill-defined and being set to 0.0 in labels with no predicted samples. Use `zero_division` parameter to control this behavior.\n",
      "  _warn_prf(average, modifier, f\"{metric.capitalize()} is\", len(result))\n",
      "C:\\Users\\user\\anaconda3\\Lib\\site-packages\\sklearn\\metrics\\_classification.py:1531: UndefinedMetricWarning: Precision is ill-defined and being set to 0.0 in labels with no predicted samples. Use `zero_division` parameter to control this behavior.\n",
      "  _warn_prf(average, modifier, f\"{metric.capitalize()} is\", len(result))\n"
     ]
    }
   ],
   "source": [
    "print(\"\\nSVM Classification Report for legalh:\")\n",
    "print(classification_report(y_test_legalh, svm_predictions, zero_division=0))\n"
   ]
  },
  {
   "cell_type": "code",
   "execution_count": 225,
   "metadata": {},
   "outputs": [
    {
     "data": {
      "image/png": "[encoded data removed]",
      "text/plain": [
       "<Figure size 1500x600 with 2 Axes>"
      ]
     },
     "metadata": {},
     "output_type": "display_data"
    }
   ],
   "source": [
    "fig, axes = plt.subplots(1, 2, figsize=(15, 6))\n",
    "\n",
    "cm_rf = confusion_matrix(y_test_legalh, rf_predictions)\n",
    "sns.heatmap(cm_rf, annot=True, fmt=\"d\", cmap=\"coolwarm\", ax=axes[0], cbar=False)\n",
    "axes[0].set_title(\"Random Forest Confusion Matrix - legalh\")\n",
    "axes[0].set_xlabel('Predicted')\n",
    "axes[0].set_ylabel('True')\n",
    "\n",
    "cm_svm = confusion_matrix(y_test_legalh, svm_predictions)\n",
    "sns.heatmap(cm_svm, annot=True, fmt=\"d\", cmap=\"coolwarm\", ax=axes[1], cbar=False)\n",
    "axes[1].set_title(\"SVM Confusion Matrix - legalh\")\n",
    "axes[1].set_xlabel('Predicted')\n",
    "axes[1].set_ylabel('True')\n",
    "\n",
    "plt.tight_layout()\n",
    "plt.savefig('C:/Users/user/Desktop/SALFORD 2/legalh_plot.png', dpi=300, bbox_inches='tight')\n",
    "\n",
    "plt.show()\n"
   ]
  },
  {
   "cell_type": "markdown",
   "metadata": {},
   "source": [
    "# Preprocessing for the target `lsd`"
   ]
  },
  {
   "cell_type": "code",
   "execution_count": 226,
   "metadata": {},
   "outputs": [],
   "source": [
    "target_column = 25\n",
    "X = drug_data.iloc[:, :12]\n",
    "y_lsd = drug_data.iloc[:, target_column]\n",
    "\n",
    "X_train_lsd, X_test_lsd, y_train_lsd, y_test_lsd = train_test_split(X, y_lsd, test_size=0.2, random_state=42)\n",
    "\n",
    "scaler_lsd = StandardScaler()\n",
    "X_train_lsd = scaler_lsd.fit_transform(X_train_lsd)\n",
    "X_test_lsd = scaler_lsd.transform(X_test_lsd)"
   ]
  },
  {
   "cell_type": "markdown",
   "metadata": {},
   "source": [
    "# Model for the target `lsd`"
   ]
  },
  {
   "cell_type": "code",
   "execution_count": 227,
   "metadata": {},
   "outputs": [],
   "source": [
    "rf_model = RandomForestClassifier(random_state=42)\n",
    "rf_model.fit(X_train_lsd, y_train_lsd)\n",
    "rf_predictions = rf_model.predict(X_test_lsd)\n",
    "\n",
    "svm_model = SVC(kernel='rbf', random_state=42, probability=True)\n",
    "svm_model.fit(X_train_lsd, y_train_lsd)\n",
    "svm_predictions = svm_model.predict(X_test_lsd)\n",
    "\n",
    "rf_accuracy = accuracy_score(y_test_lsd, rf_predictions)\n",
    "svm_accuracy = accuracy_score(y_test_lsd, svm_predictions)\n"
   ]
  },
  {
   "cell_type": "code",
   "execution_count": 228,
   "metadata": {},
   "outputs": [
    {
     "name": "stdout",
     "output_type": "stream",
     "text": [
      "Random Forest Classifier Accuracy: 0.6021\n",
      "SVM Classifier Accuracy: 0.6101\n"
     ]
    }
   ],
   "source": [
    "print(f\"Random Forest Classifier Accuracy: {rf_accuracy:.4f}\")\n",
    "print(f\"SVM Classifier Accuracy: {svm_accuracy:.4f}\")"
   ]
  },
  {
   "cell_type": "code",
   "execution_count": 229,
   "metadata": {},
   "outputs": [
    {
     "name": "stdout",
     "output_type": "stream",
     "text": [
      "              precision    recall  f1-score   support\n",
      "\n",
      "         CL0       0.67      0.89      0.76       218\n",
      "         CL1       0.65      0.25      0.36        52\n",
      "         CL2       0.29      0.14      0.19        28\n",
      "         CL3       0.31      0.35      0.33        46\n",
      "         CL4       0.00      0.00      0.00        20\n",
      "         CL5       0.00      0.00      0.00        11\n",
      "         CL6       0.00      0.00      0.00         2\n",
      "\n",
      "    accuracy                           0.60       377\n",
      "   macro avg       0.27      0.23      0.23       377\n",
      "weighted avg       0.53      0.60      0.54       377\n",
      "\n"
     ]
    }
   ],
   "source": [
    "# Forest Classification Report for lsd\n",
    "print(classification_report(y_test_lsd, rf_predictions, zero_division=0))\n"
   ]
  },
  {
   "cell_type": "code",
   "execution_count": 230,
   "metadata": {},
   "outputs": [
    {
     "name": "stdout",
     "output_type": "stream",
     "text": [
      "              precision    recall  f1-score   support\n",
      "\n",
      "         CL0       0.66      0.90      0.76       218\n",
      "         CL1       0.79      0.21      0.33        52\n",
      "         CL2       0.25      0.07      0.11        28\n",
      "         CL3       0.36      0.46      0.40        46\n",
      "         CL4       0.00      0.00      0.00        20\n",
      "         CL5       0.00      0.00      0.00        11\n",
      "         CL6       0.00      0.00      0.00         2\n",
      "\n",
      "    accuracy                           0.61       377\n",
      "   macro avg       0.29      0.23      0.23       377\n",
      "weighted avg       0.55      0.61      0.54       377\n",
      "\n"
     ]
    }
   ],
   "source": [
    "# SVM Classification Report for lsd\n",
    "print(classification_report(y_test_lsd, svm_predictions, zero_division=0))"
   ]
  },
  {
   "cell_type": "code",
   "execution_count": 231,
   "metadata": {},
   "outputs": [
    {
     "data": {
      "image/png": "[encoded data removed]",
      "text/plain": [
       "<Figure size 1500x600 with 2 Axes>"
      ]
     },
     "metadata": {},
     "output_type": "display_data"
    }
   ],
   "source": [
    "fig, axes = plt.subplots(1, 2, figsize=(15, 6))\n",
    "\n",
    "cm_rf = confusion_matrix(y_test_lsd, rf_predictions)\n",
    "sns.heatmap(cm_rf, annot=True, fmt=\"d\", cmap=\"viridis\", ax=axes[0], cbar=False)\n",
    "axes[0].set_title(\"Random Forest Confusion Matrix - lsd\")\n",
    "axes[0].set_xlabel('Predicted')\n",
    "axes[0].set_ylabel('True')\n",
    "\n",
    "cm_svm = confusion_matrix(y_test_lsd, svm_predictions)\n",
    "sns.heatmap(cm_svm, annot=True, fmt=\"d\", cmap=\"viridis\", ax=axes[1], cbar=False)\n",
    "axes[1].set_title(\"SVM Confusion Matrix - lsd\")\n",
    "axes[1].set_xlabel('Predicted')\n",
    "axes[1].set_ylabel('True')\n",
    "\n",
    "plt.tight_layout()\n",
    "plt.savefig('C:/Users/user/Desktop/SALFORD 2/lsd_plot.png', dpi=300, bbox_inches='tight')\n",
    "\n",
    "plt.show()"
   ]
  },
  {
   "cell_type": "markdown",
   "metadata": {},
   "source": [
    "# Preprocessing for the target `meth`"
   ]
  },
  {
   "cell_type": "code",
   "execution_count": 232,
   "metadata": {},
   "outputs": [],
   "source": [
    "target_column = 26\n",
    "X = drug_data.iloc[:, :12]\n",
    "y_meth = drug_data.iloc[:, target_column]\n",
    "\n",
    "X_train_meth, X_test_meth, y_train_meth, y_test_meth = train_test_split(X, y_meth, test_size=0.2, random_state=42)\n",
    "\n",
    "scaler_meth = StandardScaler()\n",
    "X_train_meth = scaler_meth.fit_transform(X_train_meth)\n",
    "X_test_meth = scaler_meth.transform(X_test_meth)"
   ]
  },
  {
   "cell_type": "markdown",
   "metadata": {},
   "source": [
    "# Model for the target `meth`"
   ]
  },
  {
   "cell_type": "code",
   "execution_count": 233,
   "metadata": {},
   "outputs": [],
   "source": [
    "rf_model = RandomForestClassifier(random_state=42)\n",
    "rf_model.fit(X_train_meth, y_train_meth)\n",
    "rf_predictions = rf_model.predict(X_test_meth)\n",
    "\n",
    "svm_model = SVC(kernel='rbf', random_state=42, probability=True)\n",
    "svm_model.fit(X_train_meth, y_train_meth)\n",
    "svm_predictions = svm_model.predict(X_test_meth)"
   ]
  },
  {
   "cell_type": "code",
   "execution_count": 234,
   "metadata": {},
   "outputs": [],
   "source": [
    "rf_accuracy = accuracy_score(y_test_meth, rf_predictions)\n",
    "svm_accuracy = accuracy_score(y_test_meth, svm_predictions)"
   ]
  },
  {
   "cell_type": "code",
   "execution_count": 235,
   "metadata": {},
   "outputs": [
    {
     "name": "stdout",
     "output_type": "stream",
     "text": [
      "Random Forest Classifier Accuracy: 0.7347\n",
      "SVM Classifier Accuracy: 0.7533\n"
     ]
    }
   ],
   "source": [
    "print(f\"Random Forest Classifier Accuracy: {rf_accuracy:.4f}\")\n",
    "print(f\"SVM Classifier Accuracy: {svm_accuracy:.4f}\")\n"
   ]
  },
  {
   "cell_type": "code",
   "execution_count": 238,
   "metadata": {},
   "outputs": [
    {
     "name": "stdout",
     "output_type": "stream",
     "text": [
      "\n",
      "Random Forest Classification Report for meth:\n",
      "              precision    recall  f1-score   support\n",
      "\n",
      "         CL0       0.77      0.97      0.86       284\n",
      "         CL1       0.00      0.00      0.00         7\n",
      "         CL2       0.00      0.00      0.00        20\n",
      "         CL3       0.07      0.03      0.04        31\n",
      "         CL4       0.00      0.00      0.00         9\n",
      "         CL5       0.00      0.00      0.00        14\n",
      "         CL6       1.00      0.08      0.15        12\n",
      "\n",
      "    accuracy                           0.73       377\n",
      "   macro avg       0.26      0.15      0.15       377\n",
      "weighted avg       0.61      0.73      0.65       377\n",
      "\n"
     ]
    }
   ],
   "source": [
    "print(\"\\nRandom Forest Classification Report for meth:\")\n",
    "print(classification_report(y_test_meth, rf_predictions, zero_division=0))"
   ]
  },
  {
   "cell_type": "code",
   "execution_count": 239,
   "metadata": {},
   "outputs": [
    {
     "name": "stdout",
     "output_type": "stream",
     "text": [
      "\n",
      "SVM Classification Report for meth:\n",
      "              precision    recall  f1-score   support\n",
      "\n",
      "         CL0       0.75      1.00      0.86       284\n",
      "         CL1       0.00      0.00      0.00         7\n",
      "         CL2       0.00      0.00      0.00        20\n",
      "         CL3       0.00      0.00      0.00        31\n",
      "         CL4       0.00      0.00      0.00         9\n",
      "         CL5       0.00      0.00      0.00        14\n",
      "         CL6       0.00      0.00      0.00        12\n",
      "\n",
      "    accuracy                           0.75       377\n",
      "   macro avg       0.11      0.14      0.12       377\n",
      "weighted avg       0.57      0.75      0.65       377\n",
      "\n"
     ]
    }
   ],
   "source": [
    "print(\"\\nSVM Classification Report for meth:\")\n",
    "print(classification_report(y_test_meth, svm_predictions, zero_division=0))"
   ]
  },
  {
   "cell_type": "code",
   "execution_count": 240,
   "metadata": {},
   "outputs": [
    {
     "data": {
      "image/png": "[encoded data removed]",
      "text/plain": [
       "<Figure size 1500x600 with 2 Axes>"
      ]
     },
     "metadata": {},
     "output_type": "display_data"
    }
   ],
   "source": [
    "fig, axes = plt.subplots(1, 2, figsize=(15, 6))\n",
    "\n",
    "cm_rf = confusion_matrix(y_test_meth, rf_predictions)\n",
    "sns.heatmap(cm_rf, annot=True, fmt=\"d\", cmap=\"cividis\", ax=axes[0], cbar=False)\n",
    "axes[0].set_title(\"Random Forest Confusion Matrix - meth\")\n",
    "axes[0].set_xlabel('Predicted')\n",
    "axes[0].set_ylabel('True')\n",
    "\n",
    "cm_svm = confusion_matrix(y_test_meth, svm_predictions)\n",
    "sns.heatmap(cm_svm, annot=True, fmt=\"d\", cmap=\"cividis\", ax=axes[1], cbar=False)\n",
    "axes[1].set_title(\"SVM Confusion Matrix - meth\")\n",
    "axes[1].set_xlabel('Predicted')\n",
    "axes[1].set_ylabel('True')\n",
    "\n",
    "plt.tight_layout()\n",
    "plt.savefig('C:/Users/user/Desktop/SALFORD 2/meth_plot.png', dpi=300, bbox_inches='tight')\n",
    "\n",
    "plt.show()\n"
   ]
  },
  {
   "cell_type": "markdown",
   "metadata": {},
   "source": [
    "# Preprocessing for the target `mushrooms`"
   ]
  },
  {
   "cell_type": "code",
   "execution_count": 241,
   "metadata": {},
   "outputs": [],
   "source": [
    "target_column = 27\n",
    "X = drug_data.iloc[:, :12]\n",
    "y_mushrooms = drug_data.iloc[:, target_column]\n",
    "\n",
    "X_train_mushrooms, X_test_mushrooms, y_train_mushrooms, y_test_mushrooms = train_test_split(X, y_mushrooms, test_size=0.2, random_state=42)\n",
    "\n",
    "scaler_mushrooms = StandardScaler()\n",
    "X_train_mushrooms = scaler_mushrooms.fit_transform(X_train_mushrooms)\n",
    "X_test_mushrooms = scaler_mushrooms.transform(X_test_mushrooms)"
   ]
  },
  {
   "cell_type": "markdown",
   "metadata": {},
   "source": [
    "# Model for the target `mushrooms`"
   ]
  },
  {
   "cell_type": "code",
   "execution_count": 242,
   "metadata": {},
   "outputs": [],
   "source": [
    "rf_model = RandomForestClassifier(random_state=42)\n",
    "rf_model.fit(X_train_mushrooms, y_train_mushrooms)\n",
    "rf_predictions = rf_model.predict(X_test_mushrooms)\n",
    "\n",
    "svm_model = SVC(kernel='rbf', random_state=42, probability=True)\n",
    "svm_model.fit(X_train_mushrooms, y_train_mushrooms)\n",
    "svm_predictions = svm_model.predict(X_test_mushrooms)\n",
    "\n",
    "rf_accuracy = accuracy_score(y_test_mushrooms, rf_predictions)\n",
    "svm_accuracy = accuracy_score(y_test_mushrooms, svm_predictions)"
   ]
  },
  {
   "cell_type": "code",
   "execution_count": 243,
   "metadata": {},
   "outputs": [
    {
     "name": "stdout",
     "output_type": "stream",
     "text": [
      "mushrooms - Random Forest Classifier Accuracy: 0.5119\n",
      "mushrooms - SVM Classifier Accuracy: 0.5199\n"
     ]
    }
   ],
   "source": [
    "print(f\"mushrooms - Random Forest Classifier Accuracy: {rf_accuracy:.4f}\")\n",
    "print(f\"mushrooms - SVM Classifier Accuracy: {svm_accuracy:.4f}\")"
   ]
  },
  {
   "cell_type": "code",
   "execution_count": 244,
   "metadata": {},
   "outputs": [
    {
     "name": "stdout",
     "output_type": "stream",
     "text": [
      "              precision    recall  f1-score   support\n",
      "\n",
      "         CL0       0.60      0.84      0.70       191\n",
      "         CL1       0.33      0.12      0.18        42\n",
      "         CL2       0.24      0.08      0.12        51\n",
      "         CL3       0.31      0.42      0.36        55\n",
      "         CL4       0.00      0.00      0.00        30\n",
      "         CL5       0.00      0.00      0.00         6\n",
      "         CL6       0.00      0.00      0.00         2\n",
      "\n",
      "    accuracy                           0.51       377\n",
      "   macro avg       0.21      0.21      0.19       377\n",
      "weighted avg       0.42      0.51      0.44       377\n",
      "\n"
     ]
    }
   ],
   "source": [
    "# Random Forest Classification Report for mushrooms:\")\n",
    "print(classification_report(y_test_mushrooms, rf_predictions, zero_division=0))\n"
   ]
  },
  {
   "cell_type": "code",
   "execution_count": 245,
   "metadata": {},
   "outputs": [
    {
     "name": "stdout",
     "output_type": "stream",
     "text": [
      "              precision    recall  f1-score   support\n",
      "\n",
      "         CL0       0.59      0.86      0.70       191\n",
      "         CL1       0.25      0.02      0.04        42\n",
      "         CL2       0.12      0.04      0.06        51\n",
      "         CL3       0.37      0.53      0.44        55\n",
      "         CL4       0.00      0.00      0.00        30\n",
      "         CL5       0.00      0.00      0.00         6\n",
      "         CL6       0.00      0.00      0.00         2\n",
      "\n",
      "    accuracy                           0.52       377\n",
      "   macro avg       0.19      0.21      0.18       377\n",
      "weighted avg       0.40      0.52      0.43       377\n",
      "\n"
     ]
    }
   ],
   "source": [
    "# SVM Classification Report for mushrooms:\")\n",
    "print(classification_report(y_test_mushrooms, svm_predictions, zero_division=0))"
   ]
  },
  {
   "cell_type": "code",
   "execution_count": 246,
   "metadata": {},
   "outputs": [
    {
     "data": {
      "image/png": "[encoded data removed]",
      "text/plain": [
       "<Figure size 1500x600 with 2 Axes>"
      ]
     },
     "metadata": {},
     "output_type": "display_data"
    }
   ],
   "source": [
    "fig, axes = plt.subplots(1, 2, figsize=(15, 6))\n",
    "\n",
    "cm_rf = confusion_matrix(y_test_mushrooms, rf_predictions)\n",
    "sns.heatmap(cm_rf, annot=True, fmt=\"d\", cmap=\"plasma\", ax=axes[0], cbar=False)\n",
    "axes[0].set_title(\"Random Forest Confusion Matrix - mushrooms\")\n",
    "axes[0].set_xlabel('Predicted')\n",
    "axes[0].set_ylabel('True')\n",
    "\n",
    "cm_svm = confusion_matrix(y_test_mushrooms, svm_predictions)\n",
    "sns.heatmap(cm_svm, annot=True, fmt=\"d\", cmap=\"plasma\", ax=axes[1], cbar=False)\n",
    "axes[1].set_title(\"SVM Confusion Matrix - mushrooms\")\n",
    "axes[1].set_xlabel('Predicted')\n",
    "axes[1].set_ylabel('True')\n",
    "\n",
    "plt.tight_layout()\n",
    "plt.savefig('C:/Users/user/Desktop/SALFORD 2/mushrooms_plot.png', dpi=300, bbox_inches='tight')\n",
    "\n",
    "plt.show()\n"
   ]
  },
  {
   "cell_type": "markdown",
   "metadata": {},
   "source": [
    "# Preprocessing for the target `nicotine`"
   ]
  },
  {
   "cell_type": "code",
   "execution_count": 247,
   "metadata": {},
   "outputs": [],
   "source": [
    "target_column = 28\n",
    "X = drug_data.iloc[:, :12]\n",
    "y_nicotine = drug_data.iloc[:, target_column]\n",
    "\n",
    "X_train_nicotine, X_test_nicotine, y_train_nicotine, y_test_nicotine = train_test_split(X, y_nicotine, test_size=0.2, random_state=42)\n",
    "\n",
    "scaler_nicotine = StandardScaler()\n",
    "X_train_nicotine = scaler_nicotine.fit_transform(X_train_nicotine)\n",
    "X_test_nicotine = scaler_nicotine.transform(X_test_nicotine)\n"
   ]
  },
  {
   "cell_type": "markdown",
   "metadata": {},
   "source": [
    "# Model for the target `nicotine`"
   ]
  },
  {
   "cell_type": "code",
   "execution_count": 248,
   "metadata": {},
   "outputs": [],
   "source": [
    "rf_model = RandomForestClassifier(random_state=42)\n",
    "rf_model.fit(X_train_nicotine, y_train_nicotine)\n",
    "rf_predictions = rf_model.predict(X_test_nicotine)\n",
    "\n",
    "svm_model = SVC(kernel='rbf', random_state=42, probability=True)\n",
    "svm_model.fit(X_train_nicotine, y_train_nicotine)\n",
    "svm_predictions = svm_model.predict(X_test_nicotine)"
   ]
  },
  {
   "cell_type": "code",
   "execution_count": 249,
   "metadata": {},
   "outputs": [],
   "source": [
    "rf_accuracy = accuracy_score(y_test_nicotine, rf_predictions)\n",
    "svm_accuracy = accuracy_score(y_test_nicotine, svm_predictions)"
   ]
  },
  {
   "cell_type": "code",
   "execution_count": 250,
   "metadata": {},
   "outputs": [
    {
     "name": "stdout",
     "output_type": "stream",
     "text": [
      "nicotine - Random Forest Classifier Accuracy: 0.3740\n",
      "nicotine - SVM Classifier Accuracy: 0.3873\n"
     ]
    }
   ],
   "source": [
    "print(f\"nicotine - Random Forest Classifier Accuracy: {rf_accuracy:.4f}\")\n",
    "print(f\"nicotine - SVM Classifier Accuracy: {svm_accuracy:.4f}\")"
   ]
  },
  {
   "cell_type": "code",
   "execution_count": 251,
   "metadata": {},
   "outputs": [
    {
     "name": "stdout",
     "output_type": "stream",
     "text": [
      "\n",
      "Random Forest Classification Report for nicotine:\n",
      "              precision    recall  f1-score   support\n",
      "\n",
      "         CL0       0.38      0.51      0.43        91\n",
      "         CL1       0.25      0.18      0.21        34\n",
      "         CL2       0.27      0.07      0.11        44\n",
      "         CL3       0.25      0.09      0.13        33\n",
      "         CL4       0.00      0.00      0.00        19\n",
      "         CL5       0.00      0.00      0.00        34\n",
      "         CL6       0.41      0.68      0.51       122\n",
      "\n",
      "    accuracy                           0.37       377\n",
      "   macro avg       0.22      0.22      0.20       377\n",
      "weighted avg       0.30      0.37      0.31       377\n",
      "\n"
     ]
    }
   ],
   "source": [
    "print(\"\\nRandom Forest Classification Report for nicotine:\")\n",
    "print(classification_report(y_test_nicotine, rf_predictions, zero_division=0))"
   ]
  },
  {
   "cell_type": "code",
   "execution_count": 252,
   "metadata": {},
   "outputs": [
    {
     "name": "stdout",
     "output_type": "stream",
     "text": [
      "\n",
      "SVM Classification Report for nicotine:\n",
      "              precision    recall  f1-score   support\n",
      "\n",
      "         CL0       0.37      0.51      0.43        91\n",
      "         CL1       0.38      0.09      0.14        34\n",
      "         CL2       0.00      0.00      0.00        44\n",
      "         CL3       0.00      0.00      0.00        33\n",
      "         CL4       0.00      0.00      0.00        19\n",
      "         CL5       0.00      0.00      0.00        34\n",
      "         CL6       0.40      0.80      0.53       122\n",
      "\n",
      "    accuracy                           0.39       377\n",
      "   macro avg       0.16      0.20      0.16       377\n",
      "weighted avg       0.25      0.39      0.29       377\n",
      "\n"
     ]
    }
   ],
   "source": [
    "print(\"\\nSVM Classification Report for nicotine:\")\n",
    "print(classification_report(y_test_nicotine, svm_predictions, zero_division=0))"
   ]
  },
  {
   "cell_type": "code",
   "execution_count": 253,
   "metadata": {},
   "outputs": [
    {
     "data": {
      "image/png": "[encoded data removed]",
      "text/plain": [
       "<Figure size 1500x600 with 2 Axes>"
      ]
     },
     "metadata": {},
     "output_type": "display_data"
    }
   ],
   "source": [
    "fig, axes = plt.subplots(1, 2, figsize=(15, 6))\n",
    "\n",
    "cm_rf = confusion_matrix(y_test_nicotine, rf_predictions)\n",
    "sns.heatmap(cm_rf, annot=True, fmt=\"d\", cmap=\"inferno\", ax=axes[0], cbar=False)\n",
    "axes[0].set_title(\"Random Forest Confusion Matrix - nicotine\")\n",
    "axes[0].set_xlabel('Predicted')\n",
    "axes[0].set_ylabel('True')\n",
    "\n",
    "cm_svm = confusion_matrix(y_test_nicotine, svm_predictions)\n",
    "sns.heatmap(cm_svm, annot=True, fmt=\"d\", cmap=\"inferno\", ax=axes[1], cbar=False)\n",
    "axes[1].set_title(\"SVM Confusion Matrix - nicotine\")\n",
    "axes[1].set_xlabel('Predicted')\n",
    "axes[1].set_ylabel('True')\n",
    "\n",
    "plt.tight_layout()\n",
    "plt.savefig('C:/Users/user/Desktop/SALFORD 2/nicotine_plot.png', dpi=300, bbox_inches='tight')\n",
    "\n",
    "plt.show()\n"
   ]
  },
  {
   "cell_type": "markdown",
   "metadata": {},
   "source": [
    "# Preprocessing for the target `semer`"
   ]
  },
  {
   "cell_type": "code",
   "execution_count": 254,
   "metadata": {},
   "outputs": [],
   "source": [
    "target_column = 29\n",
    "X = drug_data.iloc[:, :12]\n",
    "y_semer = drug_data.iloc[:, target_column]\n",
    "\n",
    "X_train_semer, X_test_semer, y_train_semer, y_test_semer = train_test_split(X, y_semer, test_size=0.2, random_state=42)\n",
    "\n",
    "scaler_semer = StandardScaler()\n",
    "X_train_semer = scaler_semer.fit_transform(X_train_semer)\n",
    "X_test_semer = scaler_semer.transform(X_test_semer)\n"
   ]
  },
  {
   "cell_type": "markdown",
   "metadata": {},
   "source": [
    "# Model for the target `semer`"
   ]
  },
  {
   "cell_type": "code",
   "execution_count": 255,
   "metadata": {},
   "outputs": [],
   "source": [
    "rf_model = RandomForestClassifier(random_state=42)\n",
    "rf_model.fit(X_train_semer, y_train_semer)\n",
    "rf_predictions = rf_model.predict(X_test_semer)\n",
    "\n",
    "svm_model = SVC(kernel='rbf', random_state=42, probability=True)\n",
    "svm_model.fit(X_train_semer, y_train_semer)\n",
    "svm_predictions = svm_model.predict(X_test_semer)\n"
   ]
  },
  {
   "cell_type": "code",
   "execution_count": 256,
   "metadata": {},
   "outputs": [],
   "source": [
    "rf_accuracy = accuracy_score(y_test_semer, rf_predictions)\n",
    "svm_accuracy = accuracy_score(y_test_semer, svm_predictions)"
   ]
  },
  {
   "cell_type": "code",
   "execution_count": 257,
   "metadata": {},
   "outputs": [
    {
     "name": "stdout",
     "output_type": "stream",
     "text": [
      "semer - Random Forest Classifier Accuracy: 0.9973\n",
      "semer - SVM Classifier Accuracy: 0.9973\n"
     ]
    }
   ],
   "source": [
    "print(f\"semer - Random Forest Classifier Accuracy: {rf_accuracy:.4f}\")\n",
    "print(f\"semer - SVM Classifier Accuracy: {svm_accuracy:.4f}\")"
   ]
  },
  {
   "cell_type": "code",
   "execution_count": 258,
   "metadata": {},
   "outputs": [
    {
     "name": "stdout",
     "output_type": "stream",
     "text": [
      "\n",
      "Random Forest Classification Report for semer:\n",
      "              precision    recall  f1-score   support\n",
      "\n",
      "         CL0       1.00      1.00      1.00       376\n",
      "         CL2       0.00      0.00      0.00         1\n",
      "\n",
      "    accuracy                           1.00       377\n",
      "   macro avg       0.50      0.50      0.50       377\n",
      "weighted avg       0.99      1.00      1.00       377\n",
      "\n"
     ]
    }
   ],
   "source": [
    "print(\"\\nRandom Forest Classification Report for semer:\")\n",
    "print(classification_report(y_test_semer, rf_predictions, zero_division=0))"
   ]
  },
  {
   "cell_type": "code",
   "execution_count": 259,
   "metadata": {},
   "outputs": [
    {
     "name": "stdout",
     "output_type": "stream",
     "text": [
      "\n",
      "SVM Classification Report for semer:\n",
      "              precision    recall  f1-score   support\n",
      "\n",
      "         CL0       1.00      1.00      1.00       376\n",
      "         CL2       0.00      0.00      0.00         1\n",
      "\n",
      "    accuracy                           1.00       377\n",
      "   macro avg       0.50      0.50      0.50       377\n",
      "weighted avg       0.99      1.00      1.00       377\n",
      "\n"
     ]
    }
   ],
   "source": [
    "print(\"\\nSVM Classification Report for semer:\")\n",
    "print(classification_report(y_test_semer, svm_predictions, zero_division=0))"
   ]
  },
  {
   "cell_type": "code",
   "execution_count": 260,
   "metadata": {},
   "outputs": [
    {
     "data": {
      "image/png": "[encoded data removed]",
      "text/plain": [
       "<Figure size 1500x600 with 2 Axes>"
      ]
     },
     "metadata": {},
     "output_type": "display_data"
    }
   ],
   "source": [
    "fig, axes = plt.subplots(1, 2, figsize=(15, 6))\n",
    "\n",
    "cm_rf = confusion_matrix(y_test_semer, rf_predictions)\n",
    "sns.heatmap(cm_rf, annot=True, fmt=\"d\", cmap=\"cubehelix\", ax=axes[0], cbar=False)\n",
    "axes[0].set_title(\"Random Forest Confusion Matrix - semer\")\n",
    "axes[0].set_xlabel('Predicted')\n",
    "axes[0].set_ylabel('True')\n",
    "\n",
    "cm_svm = confusion_matrix(y_test_semer, svm_predictions)\n",
    "sns.heatmap(cm_svm, annot=True, fmt=\"d\", cmap=\"cubehelix\", ax=axes[1], cbar=False)\n",
    "axes[1].set_title(\"SVM Confusion Matrix - semer\")\n",
    "axes[1].set_xlabel('Predicted')\n",
    "axes[1].set_ylabel('True')\n",
    "\n",
    "plt.tight_layout()\n",
    "plt.savefig('C:/Users/user/Desktop/SALFORD 2/semer_plot.png', dpi=300, bbox_inches='tight')\n",
    "\n",
    "plt.show()\n"
   ]
  },
  {
   "cell_type": "markdown",
   "metadata": {},
   "source": [
    "# Preprocessing for the target `vsa`"
   ]
  },
  {
   "cell_type": "code",
   "execution_count": 261,
   "metadata": {},
   "outputs": [],
   "source": [
    "target_column = 30\n",
    "X = drug_data.iloc[:, :12]\n",
    "y_vsa = drug_data.iloc[:, target_column]\n",
    "\n",
    "X_train_vsa, X_test_vsa, y_train_vsa, y_test_vsa = train_test_split(X, y_vsa, test_size=0.2, random_state=42)\n",
    "\n",
    "scaler_vsa = StandardScaler()\n",
    "X_train_vsa = scaler_vsa.fit_transform(X_train_vsa)\n",
    "X_test_vsa = scaler_vsa.transform(X_test_vsa)"
   ]
  },
  {
   "cell_type": "markdown",
   "metadata": {},
   "source": [
    "# Model for the target `vsa`"
   ]
  },
  {
   "cell_type": "code",
   "execution_count": 262,
   "metadata": {},
   "outputs": [],
   "source": [
    "rf_model = RandomForestClassifier(random_state=42)\n",
    "rf_model.fit(X_train_vsa, y_train_vsa)\n",
    "rf_predictions = rf_model.predict(X_test_vsa)\n",
    "\n",
    "svm_model = SVC(kernel='rbf', random_state=42, probability=True)\n",
    "svm_model.fit(X_train_vsa, y_train_vsa)\n",
    "svm_predictions = svm_model.predict(X_test_vsa)"
   ]
  },
  {
   "cell_type": "code",
   "execution_count": 263,
   "metadata": {},
   "outputs": [],
   "source": [
    "rf_accuracy = accuracy_score(y_test_vsa, rf_predictions)\n",
    "svm_accuracy = accuracy_score(y_test_vsa, svm_predictions)"
   ]
  },
  {
   "cell_type": "code",
   "execution_count": 264,
   "metadata": {},
   "outputs": [
    {
     "name": "stdout",
     "output_type": "stream",
     "text": [
      "vsa - Random Forest Classifier Accuracy: 0.7639\n",
      "vsa - SVM Classifier Accuracy: 0.7666\n"
     ]
    }
   ],
   "source": [
    "print(f\"vsa - Random Forest Classifier Accuracy: {rf_accuracy:.4f}\")\n",
    "print(f\"vsa - SVM Classifier Accuracy: {svm_accuracy:.4f}\")"
   ]
  },
  {
   "cell_type": "code",
   "execution_count": 265,
   "metadata": {},
   "outputs": [
    {
     "name": "stdout",
     "output_type": "stream",
     "text": [
      "\n",
      "Random Forest Classification Report for vsa:\n",
      "              precision    recall  f1-score   support\n",
      "\n",
      "         CL0       0.77      1.00      0.87       289\n",
      "         CL1       0.00      0.00      0.00        39\n",
      "         CL2       0.00      0.00      0.00        27\n",
      "         CL3       0.00      0.00      0.00        12\n",
      "         CL4       0.00      0.00      0.00         1\n",
      "         CL5       0.00      0.00      0.00         8\n",
      "         CL6       0.00      0.00      0.00         1\n",
      "\n",
      "    accuracy                           0.76       377\n",
      "   macro avg       0.11      0.14      0.12       377\n",
      "weighted avg       0.59      0.76      0.66       377\n",
      "\n"
     ]
    }
   ],
   "source": [
    "\n",
    "print(\"\\nRandom Forest Classification Report for vsa:\")\n",
    "print(classification_report(y_test_vsa, rf_predictions, zero_division=0))"
   ]
  },
  {
   "cell_type": "code",
   "execution_count": 266,
   "metadata": {},
   "outputs": [
    {
     "name": "stdout",
     "output_type": "stream",
     "text": [
      "\n",
      "SVM Classification Report for vsa:\n",
      "              precision    recall  f1-score   support\n",
      "\n",
      "         CL0       0.77      1.00      0.87       289\n",
      "         CL1       0.00      0.00      0.00        39\n",
      "         CL2       0.00      0.00      0.00        27\n",
      "         CL3       0.00      0.00      0.00        12\n",
      "         CL4       0.00      0.00      0.00         1\n",
      "         CL5       0.00      0.00      0.00         8\n",
      "         CL6       0.00      0.00      0.00         1\n",
      "\n",
      "    accuracy                           0.77       377\n",
      "   macro avg       0.11      0.14      0.12       377\n",
      "weighted avg       0.59      0.77      0.67       377\n",
      "\n"
     ]
    }
   ],
   "source": [
    "print(\"\\nSVM Classification Report for vsa:\")\n",
    "print(classification_report(y_test_vsa, svm_predictions, zero_division=0))\n"
   ]
  },
  {
   "cell_type": "code",
   "execution_count": 270,
   "metadata": {},
   "outputs": [
    {
     "data": {
      "image/png": "[encoded data removed]",
      "text/plain": [
       "<Figure size 1500x600 with 2 Axes>"
      ]
     },
     "metadata": {},
     "output_type": "display_data"
    }
   ],
   "source": [
    "fig, axes = plt.subplots(1, 2, figsize=(15, 6))\n",
    "\n",
    "cm_rf = confusion_matrix(y_test_vsa, rf_predictions)\n",
    "sns.heatmap(cm_rf, annot=True, fmt=\"d\", cmap=\"magma\", ax=axes[0], cbar=False)\n",
    "axes[0].set_title(\"Random Forest Confusion Matrix - vsa\")\n",
    "axes[0].set_xlabel('Predicted')\n",
    "axes[0].set_ylabel('True')\n",
    "\n",
    "cm_svm = confusion_matrix(y_test_vsa, svm_predictions)\n",
    "sns.heatmap(cm_svm, annot=True, fmt=\"d\", cmap=\"magma\", ax=axes[1], cbar=False)\n",
    "axes[1].set_title(\"SVM Confusion Matrix - vsa\")\n",
    "axes[1].set_xlabel('Predicted')\n",
    "axes[1].set_ylabel('True')\n",
    "\n",
    "plt.tight_layout()\n",
    "plt.savefig('C:/Users/user/Desktop/SALFORD 2/vsa_plot.png', dpi=300, bbox_inches='tight')\n",
    "\n",
    "plt.show()"
   ]
  }
 ],
 "metadata": {
  "colab": {
   "provenance": []
  },
  "kernelspec": {
   "display_name": "Python 3 (ipykernel)",
   "language": "python",
   "name": "python3"
  },
  "language_info": {
   "codemirror_mode": {
    "name": "ipython",
    "version": 3
   },
   "file_extension": ".py",
   "mimetype": "text/x-python",
   "name": "python",
   "nbconvert_exporter": "python",
   "pygments_lexer": "ipython3",
   "version": "3.11.7"
  }
 },
 "nbformat": 4,
 "nbformat_minor": 4
}
